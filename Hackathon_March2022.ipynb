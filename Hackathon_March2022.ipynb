{
  "nbformat": 4,
  "nbformat_minor": 0,
  "metadata": {
    "colab": {
      "name": "HackathonMarch2022_3.ipynb",
      "provenance": [],
      "collapsed_sections": [
        "LqZYvBR0fi3_"
      ],
      "toc_visible": true
    },
    "kernelspec": {
      "name": "python3",
      "display_name": "Python 3"
    },
    "language_info": {
      "name": "python"
    }
  },
  "cells": [
    {
      "cell_type": "markdown",
      "source": [
        "<h2>Importing Libraries</h2>"
      ],
      "metadata": {
        "id": "7vxQOSoZjlz1"
      }
    },
    {
      "cell_type": "code",
      "execution_count": null,
      "metadata": {
        "id": "HeR7XvECidDh"
      },
      "outputs": [],
      "source": [
        "import numpy as np\n",
        "import pandas as pd\n",
        "\n",
        "import plotly.express as px\n",
        "import matplotlib.pyplot as plt\n",
        "import seaborn as sns\n",
        "import missingno as mno\n",
        "%matplotlib inline\n",
        "\n",
        "from sklearn.preprocessing import LabelEncoder\n",
        "from sklearn.preprocessing import Normalizer\n",
        "from sklearn.preprocessing import RobustScaler\n",
        "from sklearn.model_selection import train_test_split\n",
        "from sklearn.utils import resample\n",
        "from sklearn.pipeline import Pipeline\n",
        "from sklearn.metrics import classification_report\n",
        "\n",
        "from sklearn.preprocessing import MinMaxScaler\n",
        "from imblearn.over_sampling import SMOTE\n",
        "from imblearn.pipeline import Pipeline as imbpipeline\n",
        "from sklearn.pipeline import Pipeline\n",
        "\n",
        "from sklearn.model_selection import RepeatedStratifiedKFold, StratifiedKFold\n",
        "from sklearn.model_selection import RepeatedKFold, KFold\n",
        "from sklearn.model_selection import RandomizedSearchCV, GridSearchCV\n",
        "from sklearn.linear_model import LogisticRegression, RidgeClassifier\n",
        "from sklearn.neighbors import KNeighborsClassifier\n",
        "from sklearn.naive_bayes import GaussianNB\n",
        "from sklearn.svm import SVC\n",
        "from sklearn.ensemble import RandomForestClassifier, VotingClassifier\n",
        "from sklearn.ensemble import GradientBoostingClassifier\n",
        "\n",
        "\n",
        "from sklearn.metrics import f1_score"
      ]
    },
    {
      "cell_type": "markdown",
      "source": [
        "# <h2> Reading Data </h2>"
      ],
      "metadata": {
        "id": "MPZO1623fcxk"
      }
    },
    {
      "cell_type": "code",
      "source": [
        "train = pd.read_csv('train_PDjVQMB.csv')\n",
        "train.head()"
      ],
      "metadata": {
        "colab": {
          "base_uri": "https://localhost:8080/",
          "height": 206
        },
        "id": "mpNJ7bXniwV0",
        "outputId": "e9a631e2-5a34-4b02-d221-4b5652002696"
      },
      "execution_count": null,
      "outputs": [
        {
          "output_type": "execute_result",
          "data": {
            "text/plain": [
              "         ID  Age  Gender         Income     Balance  Vintage  \\\n",
              "0  84e2fcc9   36  Female       5L - 10L   563266.44        4   \n",
              "1  57fea15e   53  Female   Less than 5L   875572.11        2   \n",
              "2  8df34ef3   35  Female  More than 15L   701607.06        2   \n",
              "3  c5c0788b   43  Female  More than 15L  1393922.16        0   \n",
              "4  951d69c4   39  Female  More than 15L   893146.23        1   \n",
              "\n",
              "   Transaction_Status Product_Holdings  Credit_Card Credit_Category  Is_Churn  \n",
              "0                   0                1            0         Average         1  \n",
              "1                   1                1            1            Poor         0  \n",
              "2                   1                2            0            Poor         0  \n",
              "3                   1                2            1            Poor         1  \n",
              "4                   1                1            1            Good         1  "
            ],
            "text/html": [
              "\n",
              "  <div id=\"df-1b66707d-8e3a-4447-8b6b-36d2a3dcc996\">\n",
              "    <div class=\"colab-df-container\">\n",
              "      <div>\n",
              "<style scoped>\n",
              "    .dataframe tbody tr th:only-of-type {\n",
              "        vertical-align: middle;\n",
              "    }\n",
              "\n",
              "    .dataframe tbody tr th {\n",
              "        vertical-align: top;\n",
              "    }\n",
              "\n",
              "    .dataframe thead th {\n",
              "        text-align: right;\n",
              "    }\n",
              "</style>\n",
              "<table border=\"1\" class=\"dataframe\">\n",
              "  <thead>\n",
              "    <tr style=\"text-align: right;\">\n",
              "      <th></th>\n",
              "      <th>ID</th>\n",
              "      <th>Age</th>\n",
              "      <th>Gender</th>\n",
              "      <th>Income</th>\n",
              "      <th>Balance</th>\n",
              "      <th>Vintage</th>\n",
              "      <th>Transaction_Status</th>\n",
              "      <th>Product_Holdings</th>\n",
              "      <th>Credit_Card</th>\n",
              "      <th>Credit_Category</th>\n",
              "      <th>Is_Churn</th>\n",
              "    </tr>\n",
              "  </thead>\n",
              "  <tbody>\n",
              "    <tr>\n",
              "      <th>0</th>\n",
              "      <td>84e2fcc9</td>\n",
              "      <td>36</td>\n",
              "      <td>Female</td>\n",
              "      <td>5L - 10L</td>\n",
              "      <td>563266.44</td>\n",
              "      <td>4</td>\n",
              "      <td>0</td>\n",
              "      <td>1</td>\n",
              "      <td>0</td>\n",
              "      <td>Average</td>\n",
              "      <td>1</td>\n",
              "    </tr>\n",
              "    <tr>\n",
              "      <th>1</th>\n",
              "      <td>57fea15e</td>\n",
              "      <td>53</td>\n",
              "      <td>Female</td>\n",
              "      <td>Less than 5L</td>\n",
              "      <td>875572.11</td>\n",
              "      <td>2</td>\n",
              "      <td>1</td>\n",
              "      <td>1</td>\n",
              "      <td>1</td>\n",
              "      <td>Poor</td>\n",
              "      <td>0</td>\n",
              "    </tr>\n",
              "    <tr>\n",
              "      <th>2</th>\n",
              "      <td>8df34ef3</td>\n",
              "      <td>35</td>\n",
              "      <td>Female</td>\n",
              "      <td>More than 15L</td>\n",
              "      <td>701607.06</td>\n",
              "      <td>2</td>\n",
              "      <td>1</td>\n",
              "      <td>2</td>\n",
              "      <td>0</td>\n",
              "      <td>Poor</td>\n",
              "      <td>0</td>\n",
              "    </tr>\n",
              "    <tr>\n",
              "      <th>3</th>\n",
              "      <td>c5c0788b</td>\n",
              "      <td>43</td>\n",
              "      <td>Female</td>\n",
              "      <td>More than 15L</td>\n",
              "      <td>1393922.16</td>\n",
              "      <td>0</td>\n",
              "      <td>1</td>\n",
              "      <td>2</td>\n",
              "      <td>1</td>\n",
              "      <td>Poor</td>\n",
              "      <td>1</td>\n",
              "    </tr>\n",
              "    <tr>\n",
              "      <th>4</th>\n",
              "      <td>951d69c4</td>\n",
              "      <td>39</td>\n",
              "      <td>Female</td>\n",
              "      <td>More than 15L</td>\n",
              "      <td>893146.23</td>\n",
              "      <td>1</td>\n",
              "      <td>1</td>\n",
              "      <td>1</td>\n",
              "      <td>1</td>\n",
              "      <td>Good</td>\n",
              "      <td>1</td>\n",
              "    </tr>\n",
              "  </tbody>\n",
              "</table>\n",
              "</div>\n",
              "      <button class=\"colab-df-convert\" onclick=\"convertToInteractive('df-1b66707d-8e3a-4447-8b6b-36d2a3dcc996')\"\n",
              "              title=\"Convert this dataframe to an interactive table.\"\n",
              "              style=\"display:none;\">\n",
              "        \n",
              "  <svg xmlns=\"http://www.w3.org/2000/svg\" height=\"24px\"viewBox=\"0 0 24 24\"\n",
              "       width=\"24px\">\n",
              "    <path d=\"M0 0h24v24H0V0z\" fill=\"none\"/>\n",
              "    <path d=\"M18.56 5.44l.94 2.06.94-2.06 2.06-.94-2.06-.94-.94-2.06-.94 2.06-2.06.94zm-11 1L8.5 8.5l.94-2.06 2.06-.94-2.06-.94L8.5 2.5l-.94 2.06-2.06.94zm10 10l.94 2.06.94-2.06 2.06-.94-2.06-.94-.94-2.06-.94 2.06-2.06.94z\"/><path d=\"M17.41 7.96l-1.37-1.37c-.4-.4-.92-.59-1.43-.59-.52 0-1.04.2-1.43.59L10.3 9.45l-7.72 7.72c-.78.78-.78 2.05 0 2.83L4 21.41c.39.39.9.59 1.41.59.51 0 1.02-.2 1.41-.59l7.78-7.78 2.81-2.81c.8-.78.8-2.07 0-2.86zM5.41 20L4 18.59l7.72-7.72 1.47 1.35L5.41 20z\"/>\n",
              "  </svg>\n",
              "      </button>\n",
              "      \n",
              "  <style>\n",
              "    .colab-df-container {\n",
              "      display:flex;\n",
              "      flex-wrap:wrap;\n",
              "      gap: 12px;\n",
              "    }\n",
              "\n",
              "    .colab-df-convert {\n",
              "      background-color: #E8F0FE;\n",
              "      border: none;\n",
              "      border-radius: 50%;\n",
              "      cursor: pointer;\n",
              "      display: none;\n",
              "      fill: #1967D2;\n",
              "      height: 32px;\n",
              "      padding: 0 0 0 0;\n",
              "      width: 32px;\n",
              "    }\n",
              "\n",
              "    .colab-df-convert:hover {\n",
              "      background-color: #E2EBFA;\n",
              "      box-shadow: 0px 1px 2px rgba(60, 64, 67, 0.3), 0px 1px 3px 1px rgba(60, 64, 67, 0.15);\n",
              "      fill: #174EA6;\n",
              "    }\n",
              "\n",
              "    [theme=dark] .colab-df-convert {\n",
              "      background-color: #3B4455;\n",
              "      fill: #D2E3FC;\n",
              "    }\n",
              "\n",
              "    [theme=dark] .colab-df-convert:hover {\n",
              "      background-color: #434B5C;\n",
              "      box-shadow: 0px 1px 3px 1px rgba(0, 0, 0, 0.15);\n",
              "      filter: drop-shadow(0px 1px 2px rgba(0, 0, 0, 0.3));\n",
              "      fill: #FFFFFF;\n",
              "    }\n",
              "  </style>\n",
              "\n",
              "      <script>\n",
              "        const buttonEl =\n",
              "          document.querySelector('#df-1b66707d-8e3a-4447-8b6b-36d2a3dcc996 button.colab-df-convert');\n",
              "        buttonEl.style.display =\n",
              "          google.colab.kernel.accessAllowed ? 'block' : 'none';\n",
              "\n",
              "        async function convertToInteractive(key) {\n",
              "          const element = document.querySelector('#df-1b66707d-8e3a-4447-8b6b-36d2a3dcc996');\n",
              "          const dataTable =\n",
              "            await google.colab.kernel.invokeFunction('convertToInteractive',\n",
              "                                                     [key], {});\n",
              "          if (!dataTable) return;\n",
              "\n",
              "          const docLinkHtml = 'Like what you see? Visit the ' +\n",
              "            '<a target=\"_blank\" href=https://colab.research.google.com/notebooks/data_table.ipynb>data table notebook</a>'\n",
              "            + ' to learn more about interactive tables.';\n",
              "          element.innerHTML = '';\n",
              "          dataTable['output_type'] = 'display_data';\n",
              "          await google.colab.output.renderOutput(dataTable, element);\n",
              "          const docLink = document.createElement('div');\n",
              "          docLink.innerHTML = docLinkHtml;\n",
              "          element.appendChild(docLink);\n",
              "        }\n",
              "      </script>\n",
              "    </div>\n",
              "  </div>\n",
              "  "
            ]
          },
          "metadata": {},
          "execution_count": 2
        }
      ]
    },
    {
      "cell_type": "code",
      "source": [
        "train.shape"
      ],
      "metadata": {
        "colab": {
          "base_uri": "https://localhost:8080/"
        },
        "id": "QkhH_fh01ihL",
        "outputId": "04f6c83d-7cac-484b-9c00-77ab2eb5aad4"
      },
      "execution_count": null,
      "outputs": [
        {
          "output_type": "execute_result",
          "data": {
            "text/plain": [
              "(6650, 11)"
            ]
          },
          "metadata": {},
          "execution_count": 50
        }
      ]
    },
    {
      "cell_type": "markdown",
      "source": [
        "- The give data contains the customer demographics and past activity with the bank\n",
        "because of this several questions arise,for example, the balance is for a specific day, what date is it, and what significance does this date have?\n",
        "Is it possible to get balances over a period of time rather than just one date?"
      ],
      "metadata": {
        "id": "a-Np12IVRM-d"
      }
    },
    {
      "cell_type": "code",
      "source": [
        "test = pd.read_csv('test_lTY72QC.csv')\n",
        "test.head()"
      ],
      "metadata": {
        "colab": {
          "base_uri": "https://localhost:8080/",
          "height": 206
        },
        "id": "c3yIpZM6i9BJ",
        "outputId": "0be3adc1-81ae-4f17-edf9-d2f985e54203"
      },
      "execution_count": null,
      "outputs": [
        {
          "output_type": "execute_result",
          "data": {
            "text/plain": [
              "         ID  Age  Gender         Income     Balance  Vintage  \\\n",
              "0  55480787   50  Female  More than 15L  1008636.39        2   \n",
              "1  9aededf2   36    Male       5L - 10L   341460.72        2   \n",
              "2  a5034a09   25  Female      10L - 15L   439460.10        0   \n",
              "3  b3256702   41    Male   Less than 5L    28581.93        0   \n",
              "4  dc28adb5   48    Male  More than 15L  1104540.03        2   \n",
              "\n",
              "   Transaction_Status Product_Holdings  Credit_Card Credit_Category  \n",
              "0                   1                2            1         Average  \n",
              "1                   0                2            1         Average  \n",
              "2                   0                2            1            Good  \n",
              "3                   1                2            1            Poor  \n",
              "4                   1               3+            0            Good  "
            ],
            "text/html": [
              "\n",
              "  <div id=\"df-a9f826ee-10bc-4a76-ada0-68fec2e18675\">\n",
              "    <div class=\"colab-df-container\">\n",
              "      <div>\n",
              "<style scoped>\n",
              "    .dataframe tbody tr th:only-of-type {\n",
              "        vertical-align: middle;\n",
              "    }\n",
              "\n",
              "    .dataframe tbody tr th {\n",
              "        vertical-align: top;\n",
              "    }\n",
              "\n",
              "    .dataframe thead th {\n",
              "        text-align: right;\n",
              "    }\n",
              "</style>\n",
              "<table border=\"1\" class=\"dataframe\">\n",
              "  <thead>\n",
              "    <tr style=\"text-align: right;\">\n",
              "      <th></th>\n",
              "      <th>ID</th>\n",
              "      <th>Age</th>\n",
              "      <th>Gender</th>\n",
              "      <th>Income</th>\n",
              "      <th>Balance</th>\n",
              "      <th>Vintage</th>\n",
              "      <th>Transaction_Status</th>\n",
              "      <th>Product_Holdings</th>\n",
              "      <th>Credit_Card</th>\n",
              "      <th>Credit_Category</th>\n",
              "    </tr>\n",
              "  </thead>\n",
              "  <tbody>\n",
              "    <tr>\n",
              "      <th>0</th>\n",
              "      <td>55480787</td>\n",
              "      <td>50</td>\n",
              "      <td>Female</td>\n",
              "      <td>More than 15L</td>\n",
              "      <td>1008636.39</td>\n",
              "      <td>2</td>\n",
              "      <td>1</td>\n",
              "      <td>2</td>\n",
              "      <td>1</td>\n",
              "      <td>Average</td>\n",
              "    </tr>\n",
              "    <tr>\n",
              "      <th>1</th>\n",
              "      <td>9aededf2</td>\n",
              "      <td>36</td>\n",
              "      <td>Male</td>\n",
              "      <td>5L - 10L</td>\n",
              "      <td>341460.72</td>\n",
              "      <td>2</td>\n",
              "      <td>0</td>\n",
              "      <td>2</td>\n",
              "      <td>1</td>\n",
              "      <td>Average</td>\n",
              "    </tr>\n",
              "    <tr>\n",
              "      <th>2</th>\n",
              "      <td>a5034a09</td>\n",
              "      <td>25</td>\n",
              "      <td>Female</td>\n",
              "      <td>10L - 15L</td>\n",
              "      <td>439460.10</td>\n",
              "      <td>0</td>\n",
              "      <td>0</td>\n",
              "      <td>2</td>\n",
              "      <td>1</td>\n",
              "      <td>Good</td>\n",
              "    </tr>\n",
              "    <tr>\n",
              "      <th>3</th>\n",
              "      <td>b3256702</td>\n",
              "      <td>41</td>\n",
              "      <td>Male</td>\n",
              "      <td>Less than 5L</td>\n",
              "      <td>28581.93</td>\n",
              "      <td>0</td>\n",
              "      <td>1</td>\n",
              "      <td>2</td>\n",
              "      <td>1</td>\n",
              "      <td>Poor</td>\n",
              "    </tr>\n",
              "    <tr>\n",
              "      <th>4</th>\n",
              "      <td>dc28adb5</td>\n",
              "      <td>48</td>\n",
              "      <td>Male</td>\n",
              "      <td>More than 15L</td>\n",
              "      <td>1104540.03</td>\n",
              "      <td>2</td>\n",
              "      <td>1</td>\n",
              "      <td>3+</td>\n",
              "      <td>0</td>\n",
              "      <td>Good</td>\n",
              "    </tr>\n",
              "  </tbody>\n",
              "</table>\n",
              "</div>\n",
              "      <button class=\"colab-df-convert\" onclick=\"convertToInteractive('df-a9f826ee-10bc-4a76-ada0-68fec2e18675')\"\n",
              "              title=\"Convert this dataframe to an interactive table.\"\n",
              "              style=\"display:none;\">\n",
              "        \n",
              "  <svg xmlns=\"http://www.w3.org/2000/svg\" height=\"24px\"viewBox=\"0 0 24 24\"\n",
              "       width=\"24px\">\n",
              "    <path d=\"M0 0h24v24H0V0z\" fill=\"none\"/>\n",
              "    <path d=\"M18.56 5.44l.94 2.06.94-2.06 2.06-.94-2.06-.94-.94-2.06-.94 2.06-2.06.94zm-11 1L8.5 8.5l.94-2.06 2.06-.94-2.06-.94L8.5 2.5l-.94 2.06-2.06.94zm10 10l.94 2.06.94-2.06 2.06-.94-2.06-.94-.94-2.06-.94 2.06-2.06.94z\"/><path d=\"M17.41 7.96l-1.37-1.37c-.4-.4-.92-.59-1.43-.59-.52 0-1.04.2-1.43.59L10.3 9.45l-7.72 7.72c-.78.78-.78 2.05 0 2.83L4 21.41c.39.39.9.59 1.41.59.51 0 1.02-.2 1.41-.59l7.78-7.78 2.81-2.81c.8-.78.8-2.07 0-2.86zM5.41 20L4 18.59l7.72-7.72 1.47 1.35L5.41 20z\"/>\n",
              "  </svg>\n",
              "      </button>\n",
              "      \n",
              "  <style>\n",
              "    .colab-df-container {\n",
              "      display:flex;\n",
              "      flex-wrap:wrap;\n",
              "      gap: 12px;\n",
              "    }\n",
              "\n",
              "    .colab-df-convert {\n",
              "      background-color: #E8F0FE;\n",
              "      border: none;\n",
              "      border-radius: 50%;\n",
              "      cursor: pointer;\n",
              "      display: none;\n",
              "      fill: #1967D2;\n",
              "      height: 32px;\n",
              "      padding: 0 0 0 0;\n",
              "      width: 32px;\n",
              "    }\n",
              "\n",
              "    .colab-df-convert:hover {\n",
              "      background-color: #E2EBFA;\n",
              "      box-shadow: 0px 1px 2px rgba(60, 64, 67, 0.3), 0px 1px 3px 1px rgba(60, 64, 67, 0.15);\n",
              "      fill: #174EA6;\n",
              "    }\n",
              "\n",
              "    [theme=dark] .colab-df-convert {\n",
              "      background-color: #3B4455;\n",
              "      fill: #D2E3FC;\n",
              "    }\n",
              "\n",
              "    [theme=dark] .colab-df-convert:hover {\n",
              "      background-color: #434B5C;\n",
              "      box-shadow: 0px 1px 3px 1px rgba(0, 0, 0, 0.15);\n",
              "      filter: drop-shadow(0px 1px 2px rgba(0, 0, 0, 0.3));\n",
              "      fill: #FFFFFF;\n",
              "    }\n",
              "  </style>\n",
              "\n",
              "      <script>\n",
              "        const buttonEl =\n",
              "          document.querySelector('#df-a9f826ee-10bc-4a76-ada0-68fec2e18675 button.colab-df-convert');\n",
              "        buttonEl.style.display =\n",
              "          google.colab.kernel.accessAllowed ? 'block' : 'none';\n",
              "\n",
              "        async function convertToInteractive(key) {\n",
              "          const element = document.querySelector('#df-a9f826ee-10bc-4a76-ada0-68fec2e18675');\n",
              "          const dataTable =\n",
              "            await google.colab.kernel.invokeFunction('convertToInteractive',\n",
              "                                                     [key], {});\n",
              "          if (!dataTable) return;\n",
              "\n",
              "          const docLinkHtml = 'Like what you see? Visit the ' +\n",
              "            '<a target=\"_blank\" href=https://colab.research.google.com/notebooks/data_table.ipynb>data table notebook</a>'\n",
              "            + ' to learn more about interactive tables.';\n",
              "          element.innerHTML = '';\n",
              "          dataTable['output_type'] = 'display_data';\n",
              "          await google.colab.output.renderOutput(dataTable, element);\n",
              "          const docLink = document.createElement('div');\n",
              "          docLink.innerHTML = docLinkHtml;\n",
              "          element.appendChild(docLink);\n",
              "        }\n",
              "      </script>\n",
              "    </div>\n",
              "  </div>\n",
              "  "
            ]
          },
          "metadata": {},
          "execution_count": 3
        }
      ]
    },
    {
      "cell_type": "code",
      "source": [
        "test.shape"
      ],
      "metadata": {
        "colab": {
          "base_uri": "https://localhost:8080/"
        },
        "id": "XeVtIJPC1oqm",
        "outputId": "3c410316-e983-4b2e-c14a-75571cca9813"
      },
      "execution_count": null,
      "outputs": [
        {
          "output_type": "execute_result",
          "data": {
            "text/plain": [
              "(2851, 10)"
            ]
          },
          "metadata": {},
          "execution_count": 52
        }
      ]
    },
    {
      "cell_type": "markdown",
      "source": [
        "# <h2> Exploratory Data Analysis </h2>"
      ],
      "metadata": {
        "id": "LqZYvBR0fi3_"
      }
    },
    {
      "cell_type": "code",
      "source": [
        "train[\"Is_Churn\"].value_counts()"
      ],
      "metadata": {
        "colab": {
          "base_uri": "https://localhost:8080/"
        },
        "id": "E6H3URatXwPV",
        "outputId": "eccef86b-732e-4dfb-b433-2e047531d5fd"
      },
      "execution_count": null,
      "outputs": [
        {
          "output_type": "execute_result",
          "data": {
            "text/plain": [
              "0    5113\n",
              "1    1537\n",
              "Name: Is_Churn, dtype: int64"
            ]
          },
          "metadata": {},
          "execution_count": 257
        }
      ]
    },
    {
      "cell_type": "code",
      "source": [
        "target_instance = train[\"Is_Churn\"].value_counts().to_frame()\n",
        "target_instance = target_instance.reset_index()\n",
        "target_instance = target_instance.rename(columns={'index': 'Category'})\n",
        "fig = px.pie(target_instance, values='Is_Churn', names='Category', color_discrete_sequence=[\"green\", \"red\"],\n",
        "             title='Distribution of Churn')\n",
        "fig.show()"
      ],
      "metadata": {
        "colab": {
          "base_uri": "https://localhost:8080/",
          "height": 542
        },
        "id": "dBe9Gz88jwaS",
        "outputId": "4ed37fde-ca5c-4dd4-b0c6-364a954c1b1f"
      },
      "execution_count": null,
      "outputs": [
        {
          "output_type": "display_data",
          "data": {
            "text/html": [
              "<html>\n",
              "<head><meta charset=\"utf-8\" /></head>\n",
              "<body>\n",
              "    <div>            <script src=\"https://cdnjs.cloudflare.com/ajax/libs/mathjax/2.7.5/MathJax.js?config=TeX-AMS-MML_SVG\"></script><script type=\"text/javascript\">if (window.MathJax) {MathJax.Hub.Config({SVG: {font: \"STIX-Web\"}});}</script>                <script type=\"text/javascript\">window.PlotlyConfig = {MathJaxConfig: 'local'};</script>\n",
              "        <script src=\"https://cdn.plot.ly/plotly-2.8.3.min.js\"></script>                <div id=\"987a99e9-81bb-4b9a-a6e9-8638fc23b6a0\" class=\"plotly-graph-div\" style=\"height:525px; width:100%;\"></div>            <script type=\"text/javascript\">                                    window.PLOTLYENV=window.PLOTLYENV || {};                                    if (document.getElementById(\"987a99e9-81bb-4b9a-a6e9-8638fc23b6a0\")) {                    Plotly.newPlot(                        \"987a99e9-81bb-4b9a-a6e9-8638fc23b6a0\",                        [{\"domain\":{\"x\":[0.0,1.0],\"y\":[0.0,1.0]},\"hovertemplate\":\"Category=%{label}<br>Is_Churn=%{value}<extra></extra>\",\"labels\":[0,1],\"legendgroup\":\"\",\"name\":\"\",\"showlegend\":true,\"values\":[5113,1537],\"type\":\"pie\"}],                        {\"template\":{\"data\":{\"bar\":[{\"error_x\":{\"color\":\"#2a3f5f\"},\"error_y\":{\"color\":\"#2a3f5f\"},\"marker\":{\"line\":{\"color\":\"#E5ECF6\",\"width\":0.5},\"pattern\":{\"fillmode\":\"overlay\",\"size\":10,\"solidity\":0.2}},\"type\":\"bar\"}],\"barpolar\":[{\"marker\":{\"line\":{\"color\":\"#E5ECF6\",\"width\":0.5},\"pattern\":{\"fillmode\":\"overlay\",\"size\":10,\"solidity\":0.2}},\"type\":\"barpolar\"}],\"carpet\":[{\"aaxis\":{\"endlinecolor\":\"#2a3f5f\",\"gridcolor\":\"white\",\"linecolor\":\"white\",\"minorgridcolor\":\"white\",\"startlinecolor\":\"#2a3f5f\"},\"baxis\":{\"endlinecolor\":\"#2a3f5f\",\"gridcolor\":\"white\",\"linecolor\":\"white\",\"minorgridcolor\":\"white\",\"startlinecolor\":\"#2a3f5f\"},\"type\":\"carpet\"}],\"choropleth\":[{\"colorbar\":{\"outlinewidth\":0,\"ticks\":\"\"},\"type\":\"choropleth\"}],\"contour\":[{\"colorbar\":{\"outlinewidth\":0,\"ticks\":\"\"},\"colorscale\":[[0.0,\"#0d0887\"],[0.1111111111111111,\"#46039f\"],[0.2222222222222222,\"#7201a8\"],[0.3333333333333333,\"#9c179e\"],[0.4444444444444444,\"#bd3786\"],[0.5555555555555556,\"#d8576b\"],[0.6666666666666666,\"#ed7953\"],[0.7777777777777778,\"#fb9f3a\"],[0.8888888888888888,\"#fdca26\"],[1.0,\"#f0f921\"]],\"type\":\"contour\"}],\"contourcarpet\":[{\"colorbar\":{\"outlinewidth\":0,\"ticks\":\"\"},\"type\":\"contourcarpet\"}],\"heatmap\":[{\"colorbar\":{\"outlinewidth\":0,\"ticks\":\"\"},\"colorscale\":[[0.0,\"#0d0887\"],[0.1111111111111111,\"#46039f\"],[0.2222222222222222,\"#7201a8\"],[0.3333333333333333,\"#9c179e\"],[0.4444444444444444,\"#bd3786\"],[0.5555555555555556,\"#d8576b\"],[0.6666666666666666,\"#ed7953\"],[0.7777777777777778,\"#fb9f3a\"],[0.8888888888888888,\"#fdca26\"],[1.0,\"#f0f921\"]],\"type\":\"heatmap\"}],\"heatmapgl\":[{\"colorbar\":{\"outlinewidth\":0,\"ticks\":\"\"},\"colorscale\":[[0.0,\"#0d0887\"],[0.1111111111111111,\"#46039f\"],[0.2222222222222222,\"#7201a8\"],[0.3333333333333333,\"#9c179e\"],[0.4444444444444444,\"#bd3786\"],[0.5555555555555556,\"#d8576b\"],[0.6666666666666666,\"#ed7953\"],[0.7777777777777778,\"#fb9f3a\"],[0.8888888888888888,\"#fdca26\"],[1.0,\"#f0f921\"]],\"type\":\"heatmapgl\"}],\"histogram\":[{\"marker\":{\"pattern\":{\"fillmode\":\"overlay\",\"size\":10,\"solidity\":0.2}},\"type\":\"histogram\"}],\"histogram2d\":[{\"colorbar\":{\"outlinewidth\":0,\"ticks\":\"\"},\"colorscale\":[[0.0,\"#0d0887\"],[0.1111111111111111,\"#46039f\"],[0.2222222222222222,\"#7201a8\"],[0.3333333333333333,\"#9c179e\"],[0.4444444444444444,\"#bd3786\"],[0.5555555555555556,\"#d8576b\"],[0.6666666666666666,\"#ed7953\"],[0.7777777777777778,\"#fb9f3a\"],[0.8888888888888888,\"#fdca26\"],[1.0,\"#f0f921\"]],\"type\":\"histogram2d\"}],\"histogram2dcontour\":[{\"colorbar\":{\"outlinewidth\":0,\"ticks\":\"\"},\"colorscale\":[[0.0,\"#0d0887\"],[0.1111111111111111,\"#46039f\"],[0.2222222222222222,\"#7201a8\"],[0.3333333333333333,\"#9c179e\"],[0.4444444444444444,\"#bd3786\"],[0.5555555555555556,\"#d8576b\"],[0.6666666666666666,\"#ed7953\"],[0.7777777777777778,\"#fb9f3a\"],[0.8888888888888888,\"#fdca26\"],[1.0,\"#f0f921\"]],\"type\":\"histogram2dcontour\"}],\"mesh3d\":[{\"colorbar\":{\"outlinewidth\":0,\"ticks\":\"\"},\"type\":\"mesh3d\"}],\"parcoords\":[{\"line\":{\"colorbar\":{\"outlinewidth\":0,\"ticks\":\"\"}},\"type\":\"parcoords\"}],\"pie\":[{\"automargin\":true,\"type\":\"pie\"}],\"scatter\":[{\"marker\":{\"colorbar\":{\"outlinewidth\":0,\"ticks\":\"\"}},\"type\":\"scatter\"}],\"scatter3d\":[{\"line\":{\"colorbar\":{\"outlinewidth\":0,\"ticks\":\"\"}},\"marker\":{\"colorbar\":{\"outlinewidth\":0,\"ticks\":\"\"}},\"type\":\"scatter3d\"}],\"scattercarpet\":[{\"marker\":{\"colorbar\":{\"outlinewidth\":0,\"ticks\":\"\"}},\"type\":\"scattercarpet\"}],\"scattergeo\":[{\"marker\":{\"colorbar\":{\"outlinewidth\":0,\"ticks\":\"\"}},\"type\":\"scattergeo\"}],\"scattergl\":[{\"marker\":{\"colorbar\":{\"outlinewidth\":0,\"ticks\":\"\"}},\"type\":\"scattergl\"}],\"scattermapbox\":[{\"marker\":{\"colorbar\":{\"outlinewidth\":0,\"ticks\":\"\"}},\"type\":\"scattermapbox\"}],\"scatterpolar\":[{\"marker\":{\"colorbar\":{\"outlinewidth\":0,\"ticks\":\"\"}},\"type\":\"scatterpolar\"}],\"scatterpolargl\":[{\"marker\":{\"colorbar\":{\"outlinewidth\":0,\"ticks\":\"\"}},\"type\":\"scatterpolargl\"}],\"scatterternary\":[{\"marker\":{\"colorbar\":{\"outlinewidth\":0,\"ticks\":\"\"}},\"type\":\"scatterternary\"}],\"surface\":[{\"colorbar\":{\"outlinewidth\":0,\"ticks\":\"\"},\"colorscale\":[[0.0,\"#0d0887\"],[0.1111111111111111,\"#46039f\"],[0.2222222222222222,\"#7201a8\"],[0.3333333333333333,\"#9c179e\"],[0.4444444444444444,\"#bd3786\"],[0.5555555555555556,\"#d8576b\"],[0.6666666666666666,\"#ed7953\"],[0.7777777777777778,\"#fb9f3a\"],[0.8888888888888888,\"#fdca26\"],[1.0,\"#f0f921\"]],\"type\":\"surface\"}],\"table\":[{\"cells\":{\"fill\":{\"color\":\"#EBF0F8\"},\"line\":{\"color\":\"white\"}},\"header\":{\"fill\":{\"color\":\"#C8D4E3\"},\"line\":{\"color\":\"white\"}},\"type\":\"table\"}]},\"layout\":{\"annotationdefaults\":{\"arrowcolor\":\"#2a3f5f\",\"arrowhead\":0,\"arrowwidth\":1},\"autotypenumbers\":\"strict\",\"coloraxis\":{\"colorbar\":{\"outlinewidth\":0,\"ticks\":\"\"}},\"colorscale\":{\"diverging\":[[0,\"#8e0152\"],[0.1,\"#c51b7d\"],[0.2,\"#de77ae\"],[0.3,\"#f1b6da\"],[0.4,\"#fde0ef\"],[0.5,\"#f7f7f7\"],[0.6,\"#e6f5d0\"],[0.7,\"#b8e186\"],[0.8,\"#7fbc41\"],[0.9,\"#4d9221\"],[1,\"#276419\"]],\"sequential\":[[0.0,\"#0d0887\"],[0.1111111111111111,\"#46039f\"],[0.2222222222222222,\"#7201a8\"],[0.3333333333333333,\"#9c179e\"],[0.4444444444444444,\"#bd3786\"],[0.5555555555555556,\"#d8576b\"],[0.6666666666666666,\"#ed7953\"],[0.7777777777777778,\"#fb9f3a\"],[0.8888888888888888,\"#fdca26\"],[1.0,\"#f0f921\"]],\"sequentialminus\":[[0.0,\"#0d0887\"],[0.1111111111111111,\"#46039f\"],[0.2222222222222222,\"#7201a8\"],[0.3333333333333333,\"#9c179e\"],[0.4444444444444444,\"#bd3786\"],[0.5555555555555556,\"#d8576b\"],[0.6666666666666666,\"#ed7953\"],[0.7777777777777778,\"#fb9f3a\"],[0.8888888888888888,\"#fdca26\"],[1.0,\"#f0f921\"]]},\"colorway\":[\"#636efa\",\"#EF553B\",\"#00cc96\",\"#ab63fa\",\"#FFA15A\",\"#19d3f3\",\"#FF6692\",\"#B6E880\",\"#FF97FF\",\"#FECB52\"],\"font\":{\"color\":\"#2a3f5f\"},\"geo\":{\"bgcolor\":\"white\",\"lakecolor\":\"white\",\"landcolor\":\"#E5ECF6\",\"showlakes\":true,\"showland\":true,\"subunitcolor\":\"white\"},\"hoverlabel\":{\"align\":\"left\"},\"hovermode\":\"closest\",\"mapbox\":{\"style\":\"light\"},\"paper_bgcolor\":\"white\",\"plot_bgcolor\":\"#E5ECF6\",\"polar\":{\"angularaxis\":{\"gridcolor\":\"white\",\"linecolor\":\"white\",\"ticks\":\"\"},\"bgcolor\":\"#E5ECF6\",\"radialaxis\":{\"gridcolor\":\"white\",\"linecolor\":\"white\",\"ticks\":\"\"}},\"scene\":{\"xaxis\":{\"backgroundcolor\":\"#E5ECF6\",\"gridcolor\":\"white\",\"gridwidth\":2,\"linecolor\":\"white\",\"showbackground\":true,\"ticks\":\"\",\"zerolinecolor\":\"white\"},\"yaxis\":{\"backgroundcolor\":\"#E5ECF6\",\"gridcolor\":\"white\",\"gridwidth\":2,\"linecolor\":\"white\",\"showbackground\":true,\"ticks\":\"\",\"zerolinecolor\":\"white\"},\"zaxis\":{\"backgroundcolor\":\"#E5ECF6\",\"gridcolor\":\"white\",\"gridwidth\":2,\"linecolor\":\"white\",\"showbackground\":true,\"ticks\":\"\",\"zerolinecolor\":\"white\"}},\"shapedefaults\":{\"line\":{\"color\":\"#2a3f5f\"}},\"ternary\":{\"aaxis\":{\"gridcolor\":\"white\",\"linecolor\":\"white\",\"ticks\":\"\"},\"baxis\":{\"gridcolor\":\"white\",\"linecolor\":\"white\",\"ticks\":\"\"},\"bgcolor\":\"#E5ECF6\",\"caxis\":{\"gridcolor\":\"white\",\"linecolor\":\"white\",\"ticks\":\"\"}},\"title\":{\"x\":0.05},\"xaxis\":{\"automargin\":true,\"gridcolor\":\"white\",\"linecolor\":\"white\",\"ticks\":\"\",\"title\":{\"standoff\":15},\"zerolinecolor\":\"white\",\"zerolinewidth\":2},\"yaxis\":{\"automargin\":true,\"gridcolor\":\"white\",\"linecolor\":\"white\",\"ticks\":\"\",\"title\":{\"standoff\":15},\"zerolinecolor\":\"white\",\"zerolinewidth\":2}}},\"legend\":{\"tracegroupgap\":0},\"title\":{\"text\":\"Distribution of Churn\"},\"piecolorway\":[\"green\",\"red\"]},                        {\"responsive\": true}                    ).then(function(){\n",
              "                            \n",
              "var gd = document.getElementById('987a99e9-81bb-4b9a-a6e9-8638fc23b6a0');\n",
              "var x = new MutationObserver(function (mutations, observer) {{\n",
              "        var display = window.getComputedStyle(gd).display;\n",
              "        if (!display || display === 'none') {{\n",
              "            console.log([gd, 'removed!']);\n",
              "            Plotly.purge(gd);\n",
              "            observer.disconnect();\n",
              "        }}\n",
              "}});\n",
              "\n",
              "// Listen for the removal of the full notebook cells\n",
              "var notebookContainer = gd.closest('#notebook-container');\n",
              "if (notebookContainer) {{\n",
              "    x.observe(notebookContainer, {childList: true});\n",
              "}}\n",
              "\n",
              "// Listen for the clearing of the current output cell\n",
              "var outputEl = gd.closest('.output');\n",
              "if (outputEl) {{\n",
              "    x.observe(outputEl, {childList: true});\n",
              "}}\n",
              "\n",
              "                        })                };                            </script>        </div>\n",
              "</body>\n",
              "</html>"
            ]
          },
          "metadata": {}
        }
      ]
    },
    {
      "cell_type": "markdown",
      "source": [
        "We're attempting to forecast the number of customers who will abandon the bank in the following six months. With an uneven target, it's a binary classification problem.\n",
        "\n"
      ],
      "metadata": {
        "id": "VM_bKFdAj0K0"
      }
    },
    {
      "cell_type": "markdown",
      "source": [
        "<h2> Checking for missing values </h2>"
      ],
      "metadata": {
        "id": "GwuLw1RKnVzI"
      }
    },
    {
      "cell_type": "code",
      "source": [
        "mno.matrix(train)"
      ],
      "metadata": {
        "colab": {
          "base_uri": "https://localhost:8080/",
          "height": 554
        },
        "id": "1TTdyJC2nbWK",
        "outputId": "b65e7d87-5bf8-456c-9c6f-2cfc0ba09058"
      },
      "execution_count": null,
      "outputs": [
        {
          "output_type": "execute_result",
          "data": {
            "text/plain": [
              "<matplotlib.axes._subplots.AxesSubplot at 0x7fbd496ff810>"
            ]
          },
          "metadata": {},
          "execution_count": 14
        },
        {
          "output_type": "display_data",
          "data": {
            "image/png": "[encoded data removed]",
            "text/plain": [
              "<Figure size 1800x720 with 2 Axes>"
            ]
          },
          "metadata": {
            "needs_background": "light"
          }
        }
      ]
    },
    {
      "cell_type": "code",
      "source": [
        "mno.matrix(test)"
      ],
      "metadata": {
        "colab": {
          "base_uri": "https://localhost:8080/",
          "height": 748
        },
        "id": "FmPH_xVbniyS",
        "outputId": "089462de-523e-4231-f4d6-606616533d32"
      },
      "execution_count": null,
      "outputs": [
        {
          "output_type": "execute_result",
          "data": {
            "text/plain": [
              "<matplotlib.axes._subplots.AxesSubplot at 0x7fbd46e4db50>"
            ]
          },
          "metadata": {},
          "execution_count": 15
        },
        {
          "output_type": "display_data",
          "data": {
            "image/png": "[encoded data removed]",
            "text/plain": [
              "<Figure size 1800x720 with 2 Axes>"
            ]
          },
          "metadata": {
            "needs_background": "light"
          }
        }
      ]
    },
    {
      "cell_type": "markdown",
      "source": [
        "There are no missing values present in our data set."
      ],
      "metadata": {
        "id": "ApzmWOnintDy"
      }
    },
    {
      "cell_type": "markdown",
      "source": [
        "<h2> Descriptive Statistics </h2>\n",
        "\n",
        "<h3>1. Train data</h3>"
      ],
      "metadata": {
        "id": "9F6PNfcwnUrz"
      }
    },
    {
      "cell_type": "code",
      "source": [
        "train.describe()"
      ],
      "metadata": {
        "colab": {
          "base_uri": "https://localhost:8080/",
          "height": 300
        },
        "id": "mIR7gXTFm4qr",
        "outputId": "bd0525d9-8a96-40e1-db7e-50669044be15"
      },
      "execution_count": null,
      "outputs": [
        {
          "output_type": "execute_result",
          "data": {
            "text/html": [
              "\n",
              "  <div id=\"df-70733717-f25b-4db7-ad78-bea20df51433\">\n",
              "    <div class=\"colab-df-container\">\n",
              "      <div>\n",
              "<style scoped>\n",
              "    .dataframe tbody tr th:only-of-type {\n",
              "        vertical-align: middle;\n",
              "    }\n",
              "\n",
              "    .dataframe tbody tr th {\n",
              "        vertical-align: top;\n",
              "    }\n",
              "\n",
              "    .dataframe thead th {\n",
              "        text-align: right;\n",
              "    }\n",
              "</style>\n",
              "<table border=\"1\" class=\"dataframe\">\n",
              "  <thead>\n",
              "    <tr style=\"text-align: right;\">\n",
              "      <th></th>\n",
              "      <th>Age</th>\n",
              "      <th>Balance</th>\n",
              "      <th>Vintage</th>\n",
              "      <th>Transaction_Status</th>\n",
              "      <th>Credit_Card</th>\n",
              "      <th>Is_Churn</th>\n",
              "    </tr>\n",
              "  </thead>\n",
              "  <tbody>\n",
              "    <tr>\n",
              "      <th>count</th>\n",
              "      <td>6650.000000</td>\n",
              "      <td>6.650000e+03</td>\n",
              "      <td>6650.000000</td>\n",
              "      <td>6650.000000</td>\n",
              "      <td>6650.000000</td>\n",
              "      <td>6650.000000</td>\n",
              "    </tr>\n",
              "    <tr>\n",
              "      <th>mean</th>\n",
              "      <td>41.130226</td>\n",
              "      <td>8.045954e+05</td>\n",
              "      <td>2.250226</td>\n",
              "      <td>0.515789</td>\n",
              "      <td>0.664361</td>\n",
              "      <td>0.231128</td>\n",
              "    </tr>\n",
              "    <tr>\n",
              "      <th>std</th>\n",
              "      <td>9.685747</td>\n",
              "      <td>5.157549e+05</td>\n",
              "      <td>1.458795</td>\n",
              "      <td>0.499788</td>\n",
              "      <td>0.472249</td>\n",
              "      <td>0.421586</td>\n",
              "    </tr>\n",
              "    <tr>\n",
              "      <th>min</th>\n",
              "      <td>21.000000</td>\n",
              "      <td>6.300000e+01</td>\n",
              "      <td>0.000000</td>\n",
              "      <td>0.000000</td>\n",
              "      <td>0.000000</td>\n",
              "      <td>0.000000</td>\n",
              "    </tr>\n",
              "    <tr>\n",
              "      <th>25%</th>\n",
              "      <td>34.000000</td>\n",
              "      <td>3.922642e+05</td>\n",
              "      <td>1.000000</td>\n",
              "      <td>0.000000</td>\n",
              "      <td>0.000000</td>\n",
              "      <td>0.000000</td>\n",
              "    </tr>\n",
              "    <tr>\n",
              "      <th>50%</th>\n",
              "      <td>40.000000</td>\n",
              "      <td>7.649386e+05</td>\n",
              "      <td>2.000000</td>\n",
              "      <td>1.000000</td>\n",
              "      <td>1.000000</td>\n",
              "      <td>0.000000</td>\n",
              "    </tr>\n",
              "    <tr>\n",
              "      <th>75%</th>\n",
              "      <td>47.000000</td>\n",
              "      <td>1.147124e+06</td>\n",
              "      <td>3.000000</td>\n",
              "      <td>1.000000</td>\n",
              "      <td>1.000000</td>\n",
              "      <td>0.000000</td>\n",
              "    </tr>\n",
              "    <tr>\n",
              "      <th>max</th>\n",
              "      <td>72.000000</td>\n",
              "      <td>2.436616e+06</td>\n",
              "      <td>5.000000</td>\n",
              "      <td>1.000000</td>\n",
              "      <td>1.000000</td>\n",
              "      <td>1.000000</td>\n",
              "    </tr>\n",
              "  </tbody>\n",
              "</table>\n",
              "</div>\n",
              "      <button class=\"colab-df-convert\" onclick=\"convertToInteractive('df-70733717-f25b-4db7-ad78-bea20df51433')\"\n",
              "              title=\"Convert this dataframe to an interactive table.\"\n",
              "              style=\"display:none;\">\n",
              "        \n",
              "  <svg xmlns=\"http://www.w3.org/2000/svg\" height=\"24px\"viewBox=\"0 0 24 24\"\n",
              "       width=\"24px\">\n",
              "    <path d=\"M0 0h24v24H0V0z\" fill=\"none\"/>\n",
              "    <path d=\"M18.56 5.44l.94 2.06.94-2.06 2.06-.94-2.06-.94-.94-2.06-.94 2.06-2.06.94zm-11 1L8.5 8.5l.94-2.06 2.06-.94-2.06-.94L8.5 2.5l-.94 2.06-2.06.94zm10 10l.94 2.06.94-2.06 2.06-.94-2.06-.94-.94-2.06-.94 2.06-2.06.94z\"/><path d=\"M17.41 7.96l-1.37-1.37c-.4-.4-.92-.59-1.43-.59-.52 0-1.04.2-1.43.59L10.3 9.45l-7.72 7.72c-.78.78-.78 2.05 0 2.83L4 21.41c.39.39.9.59 1.41.59.51 0 1.02-.2 1.41-.59l7.78-7.78 2.81-2.81c.8-.78.8-2.07 0-2.86zM5.41 20L4 18.59l7.72-7.72 1.47 1.35L5.41 20z\"/>\n",
              "  </svg>\n",
              "      </button>\n",
              "      \n",
              "  <style>\n",
              "    .colab-df-container {\n",
              "      display:flex;\n",
              "      flex-wrap:wrap;\n",
              "      gap: 12px;\n",
              "    }\n",
              "\n",
              "    .colab-df-convert {\n",
              "      background-color: #E8F0FE;\n",
              "      border: none;\n",
              "      border-radius: 50%;\n",
              "      cursor: pointer;\n",
              "      display: none;\n",
              "      fill: #1967D2;\n",
              "      height: 32px;\n",
              "      padding: 0 0 0 0;\n",
              "      width: 32px;\n",
              "    }\n",
              "\n",
              "    .colab-df-convert:hover {\n",
              "      background-color: #E2EBFA;\n",
              "      box-shadow: 0px 1px 2px rgba(60, 64, 67, 0.3), 0px 1px 3px 1px rgba(60, 64, 67, 0.15);\n",
              "      fill: #174EA6;\n",
              "    }\n",
              "\n",
              "    [theme=dark] .colab-df-convert {\n",
              "      background-color: #3B4455;\n",
              "      fill: #D2E3FC;\n",
              "    }\n",
              "\n",
              "    [theme=dark] .colab-df-convert:hover {\n",
              "      background-color: #434B5C;\n",
              "      box-shadow: 0px 1px 3px 1px rgba(0, 0, 0, 0.15);\n",
              "      filter: drop-shadow(0px 1px 2px rgba(0, 0, 0, 0.3));\n",
              "      fill: #FFFFFF;\n",
              "    }\n",
              "  </style>\n",
              "\n",
              "      <script>\n",
              "        const buttonEl =\n",
              "          document.querySelector('#df-70733717-f25b-4db7-ad78-bea20df51433 button.colab-df-convert');\n",
              "        buttonEl.style.display =\n",
              "          google.colab.kernel.accessAllowed ? 'block' : 'none';\n",
              "\n",
              "        async function convertToInteractive(key) {\n",
              "          const element = document.querySelector('#df-70733717-f25b-4db7-ad78-bea20df51433');\n",
              "          const dataTable =\n",
              "            await google.colab.kernel.invokeFunction('convertToInteractive',\n",
              "                                                     [key], {});\n",
              "          if (!dataTable) return;\n",
              "\n",
              "          const docLinkHtml = 'Like what you see? Visit the ' +\n",
              "            '<a target=\"_blank\" href=https://colab.research.google.com/notebooks/data_table.ipynb>data table notebook</a>'\n",
              "            + ' to learn more about interactive tables.';\n",
              "          element.innerHTML = '';\n",
              "          dataTable['output_type'] = 'display_data';\n",
              "          await google.colab.output.renderOutput(dataTable, element);\n",
              "          const docLink = document.createElement('div');\n",
              "          docLink.innerHTML = docLinkHtml;\n",
              "          element.appendChild(docLink);\n",
              "        }\n",
              "      </script>\n",
              "    </div>\n",
              "  </div>\n",
              "  "
            ],
            "text/plain": [
              "               Age       Balance      Vintage  Transaction_Status  \\\n",
              "count  6650.000000  6.650000e+03  6650.000000         6650.000000   \n",
              "mean     41.130226  8.045954e+05     2.250226            0.515789   \n",
              "std       9.685747  5.157549e+05     1.458795            0.499788   \n",
              "min      21.000000  6.300000e+01     0.000000            0.000000   \n",
              "25%      34.000000  3.922642e+05     1.000000            0.000000   \n",
              "50%      40.000000  7.649386e+05     2.000000            1.000000   \n",
              "75%      47.000000  1.147124e+06     3.000000            1.000000   \n",
              "max      72.000000  2.436616e+06     5.000000            1.000000   \n",
              "\n",
              "       Credit_Card     Is_Churn  \n",
              "count  6650.000000  6650.000000  \n",
              "mean      0.664361     0.231128  \n",
              "std       0.472249     0.421586  \n",
              "min       0.000000     0.000000  \n",
              "25%       0.000000     0.000000  \n",
              "50%       1.000000     0.000000  \n",
              "75%       1.000000     0.000000  \n",
              "max       1.000000     1.000000  "
            ]
          },
          "metadata": {},
          "execution_count": 11
        }
      ]
    },
    {
      "cell_type": "markdown",
      "source": [
        "\n",
        "- The columns, Transaction_Status, Credit_Card, and Is_Churn have weird quartile values. Lets see min and max values of each column."
      ],
      "metadata": {
        "id": "MKB1PjXMqkU6"
      }
    },
    {
      "cell_type": "code",
      "source": [
        "print(\"The column Transaction Status has values {}\".format((min(train['Transaction_Status']), max(train['Transaction_Status']))))"
      ],
      "metadata": {
        "colab": {
          "base_uri": "https://localhost:8080/"
        },
        "id": "NrrTTCP-qg74",
        "outputId": "34a5f309-dc00-44e6-d665-01b0372eb78a"
      },
      "execution_count": null,
      "outputs": [
        {
          "output_type": "stream",
          "name": "stdout",
          "text": [
            "The column Transaction Status has values (0, 1)\n"
          ]
        }
      ]
    },
    {
      "cell_type": "code",
      "source": [
        "print(\"The column Credit Card has values {}\".format((min(train['Credit_Card']), max(train['Credit_Card']))))"
      ],
      "metadata": {
        "colab": {
          "base_uri": "https://localhost:8080/"
        },
        "id": "ggFw2yrwrPHl",
        "outputId": "ec8d3161-84fc-42ae-8466-4d4e29b5f5ac"
      },
      "execution_count": null,
      "outputs": [
        {
          "output_type": "stream",
          "name": "stdout",
          "text": [
            "The column Credit Card has values (0, 1)\n"
          ]
        }
      ]
    },
    {
      "cell_type": "code",
      "source": [
        "print(\"The column Is Churn has values {}\".format((min(train['Is_Churn']), max(train['Is_Churn']))))"
      ],
      "metadata": {
        "colab": {
          "base_uri": "https://localhost:8080/"
        },
        "id": "AQJhPmIQrXtp",
        "outputId": "719a8bd6-bfe0-496a-fdd5-1470cba1cb5b"
      },
      "execution_count": null,
      "outputs": [
        {
          "output_type": "stream",
          "name": "stdout",
          "text": [
            "The column Is Churn has values (0, 1)\n"
          ]
        }
      ]
    },
    {
      "cell_type": "markdown",
      "source": [
        "Since the values are in range 0 and 1, we get such quartile values. Lets go ahead and see what else we can find."
      ],
      "metadata": {
        "id": "k5Xq740vrkoh"
      }
    },
    {
      "cell_type": "code",
      "source": [
        "train.skew(numeric_only=True) "
      ],
      "metadata": {
        "colab": {
          "base_uri": "https://localhost:8080/"
        },
        "id": "mCDKBt2Hs5B5",
        "outputId": "dffc3649-f94c-4065-a7d4-08d4a73b4bce"
      },
      "execution_count": null,
      "outputs": [
        {
          "output_type": "execute_result",
          "data": {
            "text/plain": [
              "Age                   0.555171\n",
              "Balance               0.464460\n",
              "Vintage               0.021421\n",
              "Transaction_Status   -0.063204\n",
              "Credit_Card          -0.696287\n",
              "Is_Churn              1.275912\n",
              "dtype: float64"
            ]
          },
          "metadata": {},
          "execution_count": 35
        }
      ]
    },
    {
      "cell_type": "markdown",
      "source": [
        "Skew indicates whether the data is evenly distributed or not. A value greater than +1 tells us that the feature Is_Churn is positively skewed as it has value 1.27."
      ],
      "metadata": {
        "id": "jCWkxdWbtEcH"
      }
    },
    {
      "cell_type": "code",
      "source": [
        "train.describe(include='object')"
      ],
      "metadata": {
        "colab": {
          "base_uri": "https://localhost:8080/",
          "height": 174
        },
        "id": "A7Puvyd5qbKH",
        "outputId": "059af94c-177e-434a-9329-d2a65f9c15f4"
      },
      "execution_count": null,
      "outputs": [
        {
          "output_type": "execute_result",
          "data": {
            "text/html": [
              "\n",
              "  <div id=\"df-8f960488-d0c2-4ed5-aa3d-14ba72276291\">\n",
              "    <div class=\"colab-df-container\">\n",
              "      <div>\n",
              "<style scoped>\n",
              "    .dataframe tbody tr th:only-of-type {\n",
              "        vertical-align: middle;\n",
              "    }\n",
              "\n",
              "    .dataframe tbody tr th {\n",
              "        vertical-align: top;\n",
              "    }\n",
              "\n",
              "    .dataframe thead th {\n",
              "        text-align: right;\n",
              "    }\n",
              "</style>\n",
              "<table border=\"1\" class=\"dataframe\">\n",
              "  <thead>\n",
              "    <tr style=\"text-align: right;\">\n",
              "      <th></th>\n",
              "      <th>ID</th>\n",
              "      <th>Gender</th>\n",
              "      <th>Income</th>\n",
              "      <th>Product_Holdings</th>\n",
              "      <th>Credit_Category</th>\n",
              "    </tr>\n",
              "  </thead>\n",
              "  <tbody>\n",
              "    <tr>\n",
              "      <th>count</th>\n",
              "      <td>6650</td>\n",
              "      <td>6650</td>\n",
              "      <td>6650</td>\n",
              "      <td>6650</td>\n",
              "      <td>6650</td>\n",
              "    </tr>\n",
              "    <tr>\n",
              "      <th>unique</th>\n",
              "      <td>6650</td>\n",
              "      <td>2</td>\n",
              "      <td>4</td>\n",
              "      <td>3</td>\n",
              "      <td>3</td>\n",
              "    </tr>\n",
              "    <tr>\n",
              "      <th>top</th>\n",
              "      <td>84e2fcc9</td>\n",
              "      <td>Male</td>\n",
              "      <td>10L - 15L</td>\n",
              "      <td>1</td>\n",
              "      <td>Poor</td>\n",
              "    </tr>\n",
              "    <tr>\n",
              "      <th>freq</th>\n",
              "      <td>1</td>\n",
              "      <td>3612</td>\n",
              "      <td>1885</td>\n",
              "      <td>3200</td>\n",
              "      <td>3076</td>\n",
              "    </tr>\n",
              "  </tbody>\n",
              "</table>\n",
              "</div>\n",
              "      <button class=\"colab-df-convert\" onclick=\"convertToInteractive('df-8f960488-d0c2-4ed5-aa3d-14ba72276291')\"\n",
              "              title=\"Convert this dataframe to an interactive table.\"\n",
              "              style=\"display:none;\">\n",
              "        \n",
              "  <svg xmlns=\"http://www.w3.org/2000/svg\" height=\"24px\"viewBox=\"0 0 24 24\"\n",
              "       width=\"24px\">\n",
              "    <path d=\"M0 0h24v24H0V0z\" fill=\"none\"/>\n",
              "    <path d=\"M18.56 5.44l.94 2.06.94-2.06 2.06-.94-2.06-.94-.94-2.06-.94 2.06-2.06.94zm-11 1L8.5 8.5l.94-2.06 2.06-.94-2.06-.94L8.5 2.5l-.94 2.06-2.06.94zm10 10l.94 2.06.94-2.06 2.06-.94-2.06-.94-.94-2.06-.94 2.06-2.06.94z\"/><path d=\"M17.41 7.96l-1.37-1.37c-.4-.4-.92-.59-1.43-.59-.52 0-1.04.2-1.43.59L10.3 9.45l-7.72 7.72c-.78.78-.78 2.05 0 2.83L4 21.41c.39.39.9.59 1.41.59.51 0 1.02-.2 1.41-.59l7.78-7.78 2.81-2.81c.8-.78.8-2.07 0-2.86zM5.41 20L4 18.59l7.72-7.72 1.47 1.35L5.41 20z\"/>\n",
              "  </svg>\n",
              "      </button>\n",
              "      \n",
              "  <style>\n",
              "    .colab-df-container {\n",
              "      display:flex;\n",
              "      flex-wrap:wrap;\n",
              "      gap: 12px;\n",
              "    }\n",
              "\n",
              "    .colab-df-convert {\n",
              "      background-color: #E8F0FE;\n",
              "      border: none;\n",
              "      border-radius: 50%;\n",
              "      cursor: pointer;\n",
              "      display: none;\n",
              "      fill: #1967D2;\n",
              "      height: 32px;\n",
              "      padding: 0 0 0 0;\n",
              "      width: 32px;\n",
              "    }\n",
              "\n",
              "    .colab-df-convert:hover {\n",
              "      background-color: #E2EBFA;\n",
              "      box-shadow: 0px 1px 2px rgba(60, 64, 67, 0.3), 0px 1px 3px 1px rgba(60, 64, 67, 0.15);\n",
              "      fill: #174EA6;\n",
              "    }\n",
              "\n",
              "    [theme=dark] .colab-df-convert {\n",
              "      background-color: #3B4455;\n",
              "      fill: #D2E3FC;\n",
              "    }\n",
              "\n",
              "    [theme=dark] .colab-df-convert:hover {\n",
              "      background-color: #434B5C;\n",
              "      box-shadow: 0px 1px 3px 1px rgba(0, 0, 0, 0.15);\n",
              "      filter: drop-shadow(0px 1px 2px rgba(0, 0, 0, 0.3));\n",
              "      fill: #FFFFFF;\n",
              "    }\n",
              "  </style>\n",
              "\n",
              "      <script>\n",
              "        const buttonEl =\n",
              "          document.querySelector('#df-8f960488-d0c2-4ed5-aa3d-14ba72276291 button.colab-df-convert');\n",
              "        buttonEl.style.display =\n",
              "          google.colab.kernel.accessAllowed ? 'block' : 'none';\n",
              "\n",
              "        async function convertToInteractive(key) {\n",
              "          const element = document.querySelector('#df-8f960488-d0c2-4ed5-aa3d-14ba72276291');\n",
              "          const dataTable =\n",
              "            await google.colab.kernel.invokeFunction('convertToInteractive',\n",
              "                                                     [key], {});\n",
              "          if (!dataTable) return;\n",
              "\n",
              "          const docLinkHtml = 'Like what you see? Visit the ' +\n",
              "            '<a target=\"_blank\" href=https://colab.research.google.com/notebooks/data_table.ipynb>data table notebook</a>'\n",
              "            + ' to learn more about interactive tables.';\n",
              "          element.innerHTML = '';\n",
              "          dataTable['output_type'] = 'display_data';\n",
              "          await google.colab.output.renderOutput(dataTable, element);\n",
              "          const docLink = document.createElement('div');\n",
              "          docLink.innerHTML = docLinkHtml;\n",
              "          element.appendChild(docLink);\n",
              "        }\n",
              "      </script>\n",
              "    </div>\n",
              "  </div>\n",
              "  "
            ],
            "text/plain": [
              "              ID Gender     Income Product_Holdings Credit_Category\n",
              "count       6650   6650       6650             6650            6650\n",
              "unique      6650      2          4                3               3\n",
              "top     84e2fcc9   Male  10L - 15L                1            Poor\n",
              "freq           1   3612       1885             3200            3076"
            ]
          },
          "metadata": {},
          "execution_count": 24
        }
      ]
    },
    {
      "cell_type": "markdown",
      "source": [
        "- The share of Male customers is more than Female customers in our bank.\n",
        "- There are four different ranges of income of our customers, with the top most range of income is 10L-15L.\n",
        "- There are three number of product holdings a customer has. Many of the customers hold only 1 product.\n",
        "- The credit category is divided into three parts. The highest share of credit card category belongs to Poor class."
      ],
      "metadata": {
        "id": "z0P5yS2nrs80"
      }
    },
    {
      "cell_type": "markdown",
      "source": [
        "**Lets find all the unique values of the categorical features**"
      ],
      "metadata": {
        "id": "Kp6t_HNEsx9P"
      }
    },
    {
      "cell_type": "code",
      "source": [
        "print(\"The Gender column had values:\", train.Gender.unique())\n",
        "print()\n",
        "print(\"We have customers belonging to four different payscales, they are\", train.Income.unique())\n",
        "print()\n",
        "print(\"The number of product holdings owned by customers are\", train.Product_Holdings.unique())\n",
        "print()\n",
        "print(\"There are three different credit categories in our bank. They are\", train.Credit_Category.unique())"
      ],
      "metadata": {
        "colab": {
          "base_uri": "https://localhost:8080/"
        },
        "id": "-qdzYdimtD3B",
        "outputId": "33e5b023-274f-48cf-af2f-382d9636123b"
      },
      "execution_count": null,
      "outputs": [
        {
          "output_type": "stream",
          "name": "stdout",
          "text": [
            "The Gender column had values: ['Female' 'Male']\n",
            "\n",
            "We have customers belonging to four different payscales, they are ['5L - 10L' 'Less than 5L' 'More than 15L' '10L - 15L']\n",
            "\n",
            "The number of product holdings owned by customers are ['1' '2' '3+']\n",
            "\n",
            "There are three different credit categories in our bank. They are ['Average' 'Poor' 'Good']\n"
          ]
        }
      ]
    },
    {
      "cell_type": "markdown",
      "source": [
        "<h3> Test Data </h3>"
      ],
      "metadata": {
        "id": "3iQlo6jluxTt"
      }
    },
    {
      "cell_type": "code",
      "source": [
        "test.describe()"
      ],
      "metadata": {
        "colab": {
          "base_uri": "https://localhost:8080/",
          "height": 300
        },
        "id": "KyNeENPxuz8n",
        "outputId": "8aa2d1f3-8068-424a-8cc9-81692592693d"
      },
      "execution_count": null,
      "outputs": [
        {
          "output_type": "execute_result",
          "data": {
            "text/html": [
              "\n",
              "  <div id=\"df-16ec5a01-6978-4373-95ce-a7c05c29b51a\">\n",
              "    <div class=\"colab-df-container\">\n",
              "      <div>\n",
              "<style scoped>\n",
              "    .dataframe tbody tr th:only-of-type {\n",
              "        vertical-align: middle;\n",
              "    }\n",
              "\n",
              "    .dataframe tbody tr th {\n",
              "        vertical-align: top;\n",
              "    }\n",
              "\n",
              "    .dataframe thead th {\n",
              "        text-align: right;\n",
              "    }\n",
              "</style>\n",
              "<table border=\"1\" class=\"dataframe\">\n",
              "  <thead>\n",
              "    <tr style=\"text-align: right;\">\n",
              "      <th></th>\n",
              "      <th>Age</th>\n",
              "      <th>Balance</th>\n",
              "      <th>Vintage</th>\n",
              "      <th>Transaction_Status</th>\n",
              "      <th>Credit_Card</th>\n",
              "    </tr>\n",
              "  </thead>\n",
              "  <tbody>\n",
              "    <tr>\n",
              "      <th>count</th>\n",
              "      <td>2851.000000</td>\n",
              "      <td>2.851000e+03</td>\n",
              "      <td>2851.000000</td>\n",
              "      <td>2851.000000</td>\n",
              "      <td>2851.000000</td>\n",
              "    </tr>\n",
              "    <tr>\n",
              "      <th>mean</th>\n",
              "      <td>41.252192</td>\n",
              "      <td>8.098990e+05</td>\n",
              "      <td>2.220975</td>\n",
              "      <td>0.506840</td>\n",
              "      <td>0.668888</td>\n",
              "    </tr>\n",
              "    <tr>\n",
              "      <th>std</th>\n",
              "      <td>9.616756</td>\n",
              "      <td>5.252003e+05</td>\n",
              "      <td>1.489941</td>\n",
              "      <td>0.500041</td>\n",
              "      <td>0.470696</td>\n",
              "    </tr>\n",
              "    <tr>\n",
              "      <th>min</th>\n",
              "      <td>21.000000</td>\n",
              "      <td>1.503000e+03</td>\n",
              "      <td>0.000000</td>\n",
              "      <td>0.000000</td>\n",
              "      <td>0.000000</td>\n",
              "    </tr>\n",
              "    <tr>\n",
              "      <th>25%</th>\n",
              "      <td>34.000000</td>\n",
              "      <td>4.009684e+05</td>\n",
              "      <td>1.000000</td>\n",
              "      <td>0.000000</td>\n",
              "      <td>0.000000</td>\n",
              "    </tr>\n",
              "    <tr>\n",
              "      <th>50%</th>\n",
              "      <td>40.000000</td>\n",
              "      <td>7.659125e+05</td>\n",
              "      <td>2.000000</td>\n",
              "      <td>1.000000</td>\n",
              "      <td>1.000000</td>\n",
              "    </tr>\n",
              "    <tr>\n",
              "      <th>75%</th>\n",
              "      <td>47.000000</td>\n",
              "      <td>1.154238e+06</td>\n",
              "      <td>3.000000</td>\n",
              "      <td>1.000000</td>\n",
              "      <td>1.000000</td>\n",
              "    </tr>\n",
              "    <tr>\n",
              "      <th>max</th>\n",
              "      <td>72.000000</td>\n",
              "      <td>2.434834e+06</td>\n",
              "      <td>5.000000</td>\n",
              "      <td>1.000000</td>\n",
              "      <td>1.000000</td>\n",
              "    </tr>\n",
              "  </tbody>\n",
              "</table>\n",
              "</div>\n",
              "      <button class=\"colab-df-convert\" onclick=\"convertToInteractive('df-16ec5a01-6978-4373-95ce-a7c05c29b51a')\"\n",
              "              title=\"Convert this dataframe to an interactive table.\"\n",
              "              style=\"display:none;\">\n",
              "        \n",
              "  <svg xmlns=\"http://www.w3.org/2000/svg\" height=\"24px\"viewBox=\"0 0 24 24\"\n",
              "       width=\"24px\">\n",
              "    <path d=\"M0 0h24v24H0V0z\" fill=\"none\"/>\n",
              "    <path d=\"M18.56 5.44l.94 2.06.94-2.06 2.06-.94-2.06-.94-.94-2.06-.94 2.06-2.06.94zm-11 1L8.5 8.5l.94-2.06 2.06-.94-2.06-.94L8.5 2.5l-.94 2.06-2.06.94zm10 10l.94 2.06.94-2.06 2.06-.94-2.06-.94-.94-2.06-.94 2.06-2.06.94z\"/><path d=\"M17.41 7.96l-1.37-1.37c-.4-.4-.92-.59-1.43-.59-.52 0-1.04.2-1.43.59L10.3 9.45l-7.72 7.72c-.78.78-.78 2.05 0 2.83L4 21.41c.39.39.9.59 1.41.59.51 0 1.02-.2 1.41-.59l7.78-7.78 2.81-2.81c.8-.78.8-2.07 0-2.86zM5.41 20L4 18.59l7.72-7.72 1.47 1.35L5.41 20z\"/>\n",
              "  </svg>\n",
              "      </button>\n",
              "      \n",
              "  <style>\n",
              "    .colab-df-container {\n",
              "      display:flex;\n",
              "      flex-wrap:wrap;\n",
              "      gap: 12px;\n",
              "    }\n",
              "\n",
              "    .colab-df-convert {\n",
              "      background-color: #E8F0FE;\n",
              "      border: none;\n",
              "      border-radius: 50%;\n",
              "      cursor: pointer;\n",
              "      display: none;\n",
              "      fill: #1967D2;\n",
              "      height: 32px;\n",
              "      padding: 0 0 0 0;\n",
              "      width: 32px;\n",
              "    }\n",
              "\n",
              "    .colab-df-convert:hover {\n",
              "      background-color: #E2EBFA;\n",
              "      box-shadow: 0px 1px 2px rgba(60, 64, 67, 0.3), 0px 1px 3px 1px rgba(60, 64, 67, 0.15);\n",
              "      fill: #174EA6;\n",
              "    }\n",
              "\n",
              "    [theme=dark] .colab-df-convert {\n",
              "      background-color: #3B4455;\n",
              "      fill: #D2E3FC;\n",
              "    }\n",
              "\n",
              "    [theme=dark] .colab-df-convert:hover {\n",
              "      background-color: #434B5C;\n",
              "      box-shadow: 0px 1px 3px 1px rgba(0, 0, 0, 0.15);\n",
              "      filter: drop-shadow(0px 1px 2px rgba(0, 0, 0, 0.3));\n",
              "      fill: #FFFFFF;\n",
              "    }\n",
              "  </style>\n",
              "\n",
              "      <script>\n",
              "        const buttonEl =\n",
              "          document.querySelector('#df-16ec5a01-6978-4373-95ce-a7c05c29b51a button.colab-df-convert');\n",
              "        buttonEl.style.display =\n",
              "          google.colab.kernel.accessAllowed ? 'block' : 'none';\n",
              "\n",
              "        async function convertToInteractive(key) {\n",
              "          const element = document.querySelector('#df-16ec5a01-6978-4373-95ce-a7c05c29b51a');\n",
              "          const dataTable =\n",
              "            await google.colab.kernel.invokeFunction('convertToInteractive',\n",
              "                                                     [key], {});\n",
              "          if (!dataTable) return;\n",
              "\n",
              "          const docLinkHtml = 'Like what you see? Visit the ' +\n",
              "            '<a target=\"_blank\" href=https://colab.research.google.com/notebooks/data_table.ipynb>data table notebook</a>'\n",
              "            + ' to learn more about interactive tables.';\n",
              "          element.innerHTML = '';\n",
              "          dataTable['output_type'] = 'display_data';\n",
              "          await google.colab.output.renderOutput(dataTable, element);\n",
              "          const docLink = document.createElement('div');\n",
              "          docLink.innerHTML = docLinkHtml;\n",
              "          element.appendChild(docLink);\n",
              "        }\n",
              "      </script>\n",
              "    </div>\n",
              "  </div>\n",
              "  "
            ],
            "text/plain": [
              "               Age       Balance      Vintage  Transaction_Status  Credit_Card\n",
              "count  2851.000000  2.851000e+03  2851.000000         2851.000000  2851.000000\n",
              "mean     41.252192  8.098990e+05     2.220975            0.506840     0.668888\n",
              "std       9.616756  5.252003e+05     1.489941            0.500041     0.470696\n",
              "min      21.000000  1.503000e+03     0.000000            0.000000     0.000000\n",
              "25%      34.000000  4.009684e+05     1.000000            0.000000     0.000000\n",
              "50%      40.000000  7.659125e+05     2.000000            1.000000     1.000000\n",
              "75%      47.000000  1.154238e+06     3.000000            1.000000     1.000000\n",
              "max      72.000000  2.434834e+06     5.000000            1.000000     1.000000"
            ]
          },
          "metadata": {},
          "execution_count": 39
        }
      ]
    },
    {
      "cell_type": "markdown",
      "source": [
        "Same as train data, the values of column Transaction Status and Cresit_Card has values in range (0,1) that's why the quartile values are the way they are."
      ],
      "metadata": {
        "id": "UeV8E6wRvDbj"
      }
    },
    {
      "cell_type": "code",
      "source": [
        "test.describe(include='object')"
      ],
      "metadata": {
        "colab": {
          "base_uri": "https://localhost:8080/",
          "height": 174
        },
        "id": "9FHuXo7Qu3di",
        "outputId": "0423b559-d56f-4c5e-9b9c-3a5e886fe2c0"
      },
      "execution_count": null,
      "outputs": [
        {
          "output_type": "execute_result",
          "data": {
            "text/html": [
              "\n",
              "  <div id=\"df-fed576ba-024a-417c-be97-ced6d1887490\">\n",
              "    <div class=\"colab-df-container\">\n",
              "      <div>\n",
              "<style scoped>\n",
              "    .dataframe tbody tr th:only-of-type {\n",
              "        vertical-align: middle;\n",
              "    }\n",
              "\n",
              "    .dataframe tbody tr th {\n",
              "        vertical-align: top;\n",
              "    }\n",
              "\n",
              "    .dataframe thead th {\n",
              "        text-align: right;\n",
              "    }\n",
              "</style>\n",
              "<table border=\"1\" class=\"dataframe\">\n",
              "  <thead>\n",
              "    <tr style=\"text-align: right;\">\n",
              "      <th></th>\n",
              "      <th>ID</th>\n",
              "      <th>Gender</th>\n",
              "      <th>Income</th>\n",
              "      <th>Product_Holdings</th>\n",
              "      <th>Credit_Category</th>\n",
              "    </tr>\n",
              "  </thead>\n",
              "  <tbody>\n",
              "    <tr>\n",
              "      <th>count</th>\n",
              "      <td>2851</td>\n",
              "      <td>2851</td>\n",
              "      <td>2851</td>\n",
              "      <td>2851</td>\n",
              "      <td>2851</td>\n",
              "    </tr>\n",
              "    <tr>\n",
              "      <th>unique</th>\n",
              "      <td>2851</td>\n",
              "      <td>2</td>\n",
              "      <td>4</td>\n",
              "      <td>3</td>\n",
              "      <td>3</td>\n",
              "    </tr>\n",
              "    <tr>\n",
              "      <th>top</th>\n",
              "      <td>55480787</td>\n",
              "      <td>Male</td>\n",
              "      <td>10L - 15L</td>\n",
              "      <td>2</td>\n",
              "      <td>Poor</td>\n",
              "    </tr>\n",
              "    <tr>\n",
              "      <th>freq</th>\n",
              "      <td>1</td>\n",
              "      <td>1545</td>\n",
              "      <td>844</td>\n",
              "      <td>1359</td>\n",
              "      <td>1270</td>\n",
              "    </tr>\n",
              "  </tbody>\n",
              "</table>\n",
              "</div>\n",
              "      <button class=\"colab-df-convert\" onclick=\"convertToInteractive('df-fed576ba-024a-417c-be97-ced6d1887490')\"\n",
              "              title=\"Convert this dataframe to an interactive table.\"\n",
              "              style=\"display:none;\">\n",
              "        \n",
              "  <svg xmlns=\"http://www.w3.org/2000/svg\" height=\"24px\"viewBox=\"0 0 24 24\"\n",
              "       width=\"24px\">\n",
              "    <path d=\"M0 0h24v24H0V0z\" fill=\"none\"/>\n",
              "    <path d=\"M18.56 5.44l.94 2.06.94-2.06 2.06-.94-2.06-.94-.94-2.06-.94 2.06-2.06.94zm-11 1L8.5 8.5l.94-2.06 2.06-.94-2.06-.94L8.5 2.5l-.94 2.06-2.06.94zm10 10l.94 2.06.94-2.06 2.06-.94-2.06-.94-.94-2.06-.94 2.06-2.06.94z\"/><path d=\"M17.41 7.96l-1.37-1.37c-.4-.4-.92-.59-1.43-.59-.52 0-1.04.2-1.43.59L10.3 9.45l-7.72 7.72c-.78.78-.78 2.05 0 2.83L4 21.41c.39.39.9.59 1.41.59.51 0 1.02-.2 1.41-.59l7.78-7.78 2.81-2.81c.8-.78.8-2.07 0-2.86zM5.41 20L4 18.59l7.72-7.72 1.47 1.35L5.41 20z\"/>\n",
              "  </svg>\n",
              "      </button>\n",
              "      \n",
              "  <style>\n",
              "    .colab-df-container {\n",
              "      display:flex;\n",
              "      flex-wrap:wrap;\n",
              "      gap: 12px;\n",
              "    }\n",
              "\n",
              "    .colab-df-convert {\n",
              "      background-color: #E8F0FE;\n",
              "      border: none;\n",
              "      border-radius: 50%;\n",
              "      cursor: pointer;\n",
              "      display: none;\n",
              "      fill: #1967D2;\n",
              "      height: 32px;\n",
              "      padding: 0 0 0 0;\n",
              "      width: 32px;\n",
              "    }\n",
              "\n",
              "    .colab-df-convert:hover {\n",
              "      background-color: #E2EBFA;\n",
              "      box-shadow: 0px 1px 2px rgba(60, 64, 67, 0.3), 0px 1px 3px 1px rgba(60, 64, 67, 0.15);\n",
              "      fill: #174EA6;\n",
              "    }\n",
              "\n",
              "    [theme=dark] .colab-df-convert {\n",
              "      background-color: #3B4455;\n",
              "      fill: #D2E3FC;\n",
              "    }\n",
              "\n",
              "    [theme=dark] .colab-df-convert:hover {\n",
              "      background-color: #434B5C;\n",
              "      box-shadow: 0px 1px 3px 1px rgba(0, 0, 0, 0.15);\n",
              "      filter: drop-shadow(0px 1px 2px rgba(0, 0, 0, 0.3));\n",
              "      fill: #FFFFFF;\n",
              "    }\n",
              "  </style>\n",
              "\n",
              "      <script>\n",
              "        const buttonEl =\n",
              "          document.querySelector('#df-fed576ba-024a-417c-be97-ced6d1887490 button.colab-df-convert');\n",
              "        buttonEl.style.display =\n",
              "          google.colab.kernel.accessAllowed ? 'block' : 'none';\n",
              "\n",
              "        async function convertToInteractive(key) {\n",
              "          const element = document.querySelector('#df-fed576ba-024a-417c-be97-ced6d1887490');\n",
              "          const dataTable =\n",
              "            await google.colab.kernel.invokeFunction('convertToInteractive',\n",
              "                                                     [key], {});\n",
              "          if (!dataTable) return;\n",
              "\n",
              "          const docLinkHtml = 'Like what you see? Visit the ' +\n",
              "            '<a target=\"_blank\" href=https://colab.research.google.com/notebooks/data_table.ipynb>data table notebook</a>'\n",
              "            + ' to learn more about interactive tables.';\n",
              "          element.innerHTML = '';\n",
              "          dataTable['output_type'] = 'display_data';\n",
              "          await google.colab.output.renderOutput(dataTable, element);\n",
              "          const docLink = document.createElement('div');\n",
              "          docLink.innerHTML = docLinkHtml;\n",
              "          element.appendChild(docLink);\n",
              "        }\n",
              "      </script>\n",
              "    </div>\n",
              "  </div>\n",
              "  "
            ],
            "text/plain": [
              "              ID Gender     Income Product_Holdings Credit_Category\n",
              "count       2851   2851       2851             2851            2851\n",
              "unique      2851      2          4                3               3\n",
              "top     55480787   Male  10L - 15L                2            Poor\n",
              "freq           1   1545        844             1359            1270"
            ]
          },
          "metadata": {},
          "execution_count": 40
        }
      ]
    },
    {
      "cell_type": "markdown",
      "source": [
        "- The share of Male customers is more than Female customers in our bank.\n",
        "- There are four different ranges of income of our customers, with the top most range of income is 10L-15L.\n",
        "- There are three number of product holdings a customer has. Many of the customers hold 2 products.\n",
        "- The credit category is divided into three parts. The highest share of credit card category belongs to Poor class."
      ],
      "metadata": {
        "id": "h6meFIcOvShJ"
      }
    },
    {
      "cell_type": "markdown",
      "source": [
        "**Lets find all the unique values of the categorical features**"
      ],
      "metadata": {
        "id": "5EPWVeN4u9_X"
      }
    },
    {
      "cell_type": "code",
      "source": [
        "print(\"The Gender column had values:\", test.Gender.unique())\n",
        "print()\n",
        "print(\"We have customers belonging to four different payscales, they are\", test.Income.unique())\n",
        "print()\n",
        "print(\"The number of product holdings owned by customers are\", test.Product_Holdings.unique())\n",
        "print()\n",
        "print(\"There are three different credit categories in our bank. They are\", test.Credit_Category.unique())"
      ],
      "metadata": {
        "colab": {
          "base_uri": "https://localhost:8080/"
        },
        "id": "K_mTwly5u9A5",
        "outputId": "89118f78-a465-4746-d5de-df4386eae95e"
      },
      "execution_count": null,
      "outputs": [
        {
          "output_type": "stream",
          "name": "stdout",
          "text": [
            "The Gender column had values: ['Female' 'Male']\n",
            "\n",
            "We have customers belonging to four different payscales, they are ['More than 15L' '5L - 10L' '10L - 15L' 'Less than 5L']\n",
            "\n",
            "The number of product holdings owned by customers are ['2' '3+' '1']\n",
            "\n",
            "There are three different credit categories in our bank. They are ['Average' 'Good' 'Poor']\n"
          ]
        }
      ]
    },
    {
      "cell_type": "markdown",
      "source": [
        "<h2> Verify presence of outliers </h2>\n",
        "\n",
        "We will verify the precense of outliers in the data using Inter Quartile Range (IQR).\n",
        "\n",
        "Rule : Data points that lie 1.5 times of IQR below Q1 and above Q3 are considered to be outliers."
      ],
      "metadata": {
        "id": "uIsyB_4AvqKZ"
      }
    },
    {
      "cell_type": "code",
      "source": [
        "num_fea = [col for col in train.columns if train[col].dtype in ('int64', 'float64')]\n",
        "\n",
        "def detect_outliers_iqr(data, num_features):\n",
        "    outlier_value = []\n",
        "    final_list = {}\n",
        "    for i in num_features:\n",
        "        data2 = data[i].values\n",
        "        data2 = sorted(data2)           # sort in ascending order\n",
        "        Q1 = np.percentile(data2, 25)     # first quartile\n",
        "        Q3 = np.percentile(data2, 75)     # third quartile\n",
        "        IQR = Q3 - Q1\n",
        "        lower_bound = Q1 - (1.5*IQR)\n",
        "        upper_bound = Q3 + (1.5*IQR)\n",
        "        outlier_value = []\n",
        "        for j in data2:\n",
        "            if (j<lower_bound or j>upper_bound):\n",
        "              outlier_value.append(j)\n",
        "              final_list[i] = outlier_value\n",
        "    return final_list\n",
        "sample_outliers = detect_outliers_iqr(train, num_fea)\n",
        "print(\"Features having outliers from IQR method: \", sample_outliers.keys())\n",
        "print(\"\\n Therefore total {} features have outliers present in them\".format(len(sample_outliers.keys())))"
      ],
      "metadata": {
        "colab": {
          "base_uri": "https://localhost:8080/"
        },
        "id": "qrAsrXstvt_I",
        "outputId": "9f51dea5-0b02-499a-a8d9-850f036f4ad0"
      },
      "execution_count": null,
      "outputs": [
        {
          "output_type": "stream",
          "name": "stdout",
          "text": [
            "Features having outliers from IQR method:  dict_keys(['Age', 'Balance', 'Is_Churn'])\n",
            "\n",
            " Therefore total 3 features have outliers present in them\n"
          ]
        }
      ]
    },
    {
      "cell_type": "code",
      "source": [
        "num_fea2 = [col for col in test.columns if test[col].dtype in ('int64', 'float64')]\n",
        "sample_outliers2 = detect_outliers_iqr(test, num_fea2)\n",
        "print(\"Features having outliers from IQR method: \", sample_outliers2.keys())\n",
        "print(\"Therefore total {} features have outliers present in them\".format(len(sample_outliers2.keys())))"
      ],
      "metadata": {
        "colab": {
          "base_uri": "https://localhost:8080/"
        },
        "id": "b6wWV3k9yype",
        "outputId": "8c1f1cbc-904d-4d20-e6b7-cfc322fa4abc"
      },
      "execution_count": null,
      "outputs": [
        {
          "output_type": "stream",
          "name": "stdout",
          "text": [
            "Features having outliers from IQR method:  dict_keys(['Age', 'Balance'])\n",
            "Therefore total 2 features have outliers present in them\n"
          ]
        }
      ]
    },
    {
      "cell_type": "markdown",
      "source": [
        "We will further investigate the outliers to see if they are valid data points with respect to our data."
      ],
      "metadata": {
        "id": "PP0iQ7ZZYEHB"
      }
    },
    {
      "cell_type": "code",
      "source": [
        "print(\"The column Age has values in range {}\".format((min(train['Age']), max(train['Age']))))\n",
        "print()\n",
        "print(\"The column Balance has values in range {}\".format((min(train['Balance']), max(train['Balance']))))"
      ],
      "metadata": {
        "colab": {
          "base_uri": "https://localhost:8080/"
        },
        "id": "yI-MRns6YMA1",
        "outputId": "a3e2c695-8429-4e14-a90a-493740c9cf95"
      },
      "execution_count": null,
      "outputs": [
        {
          "output_type": "stream",
          "name": "stdout",
          "text": [
            "The column Age has values in range (21, 72)\n",
            "\n",
            "The column Balance has values in range (63.0, 2436615.81)\n"
          ]
        }
      ]
    },
    {
      "cell_type": "code",
      "source": [
        "len(sample_outliers['Age'])/train.shape[0] #train data outliers"
      ],
      "metadata": {
        "colab": {
          "base_uri": "https://localhost:8080/"
        },
        "id": "tVuGSThDY8MX",
        "outputId": "af2d7e15-d1be-4509-b612-5e24cfb7e725"
      },
      "execution_count": null,
      "outputs": [
        {
          "output_type": "execute_result",
          "data": {
            "text/plain": [
              "0.008571428571428572"
            ]
          },
          "metadata": {},
          "execution_count": 99
        }
      ]
    },
    {
      "cell_type": "code",
      "source": [
        "len(sample_outliers['Balance'])/train.shape[0] #train data outliers"
      ],
      "metadata": {
        "colab": {
          "base_uri": "https://localhost:8080/"
        },
        "id": "9vVFCUxxYs6c",
        "outputId": "7d45a700-02c1-425d-9cff-e3e75204af37"
      },
      "execution_count": null,
      "outputs": [
        {
          "output_type": "execute_result",
          "data": {
            "text/plain": [
              "0.005714285714285714"
            ]
          },
          "metadata": {},
          "execution_count": 100
        }
      ]
    },
    {
      "cell_type": "code",
      "source": [
        "len(sample_outliers['Is_Churn'])/train.shape[0]"
      ],
      "metadata": {
        "colab": {
          "base_uri": "https://localhost:8080/"
        },
        "id": "af2TrU_yC4pu",
        "outputId": "7a9fb5b9-76fa-40b4-8355-376a3997928e"
      },
      "execution_count": null,
      "outputs": [
        {
          "output_type": "execute_result",
          "data": {
            "text/plain": [
              "0.23112781954887218"
            ]
          },
          "metadata": {},
          "execution_count": 101
        }
      ]
    },
    {
      "cell_type": "code",
      "source": [
        "len(sample_outliers['Is_Churn'])"
      ],
      "metadata": {
        "colab": {
          "base_uri": "https://localhost:8080/"
        },
        "id": "Z7ihgYcoDjZL",
        "outputId": "14fdc211-84c0-4a40-ce18-128e30d0f459"
      },
      "execution_count": null,
      "outputs": [
        {
          "output_type": "execute_result",
          "data": {
            "text/plain": [
              "1537"
            ]
          },
          "metadata": {},
          "execution_count": 106
        }
      ]
    },
    {
      "cell_type": "code",
      "source": [
        "train['Is_Churn'].value_counts()"
      ],
      "metadata": {
        "colab": {
          "base_uri": "https://localhost:8080/"
        },
        "id": "sIvXwh9AD4kK",
        "outputId": "11aeabd3-5c3b-4cc6-f39a-4f8799e69fbc"
      },
      "execution_count": null,
      "outputs": [
        {
          "output_type": "execute_result",
          "data": {
            "text/plain": [
              "0    5113\n",
              "1    1537\n",
              "Name: Is_Churn, dtype: int64"
            ]
          },
          "metadata": {},
          "execution_count": 107
        }
      ]
    },
    {
      "cell_type": "markdown",
      "source": [
        "Seems as though our bank has less number of customers in having age range between 67-72, and Balance between 2280600.81 to 2436615.81, thats why they seem like outliers. We will keep these data points as they too provide value to our problem statement. If at all our metric suffers due to the presence of these outliers, we will then handle them.\n",
        "\n",
        "However, as there is class imbalance, the class 1 is considered as an outlier by the IQR method. We will keep it is as it is too."
      ],
      "metadata": {
        "id": "yPhuH9VQY_VT"
      }
    },
    {
      "cell_type": "markdown",
      "source": [
        "<h2> Review Is_Churn feature with some of the features "
      ],
      "metadata": {
        "id": "pHxNe_ihjlXb"
      }
    },
    {
      "cell_type": "code",
      "source": [
        "fig, axarr = plt.subplots(2, 2, figsize=(20, 12))\n",
        "sns.countplot(x='Gender', hue = 'Is_Churn',data = train, ax=axarr[0][0])\n",
        "sns.countplot(x='Credit_Category', hue = 'Is_Churn',data = train, ax=axarr[0][1])\n",
        "sns.countplot(x='Credit_Card', hue = 'Is_Churn',data = train, ax=axarr[1][0])\n",
        "sns.countplot(x='Transaction_Status', hue = 'Is_Churn',data = train, ax=axarr[1][1])"
      ],
      "metadata": {
        "colab": {
          "base_uri": "https://localhost:8080/",
          "height": 695
        },
        "id": "SceH-6TckqXs",
        "outputId": "73486cdf-13f6-4151-881b-ec2e09bd7bf0"
      },
      "execution_count": null,
      "outputs": [
        {
          "output_type": "execute_result",
          "data": {
            "text/plain": [
              "<matplotlib.axes._subplots.AxesSubplot at 0x7f05a728af50>"
            ]
          },
          "metadata": {},
          "execution_count": 10
        },
        {
          "output_type": "display_data",
          "data": {
            "image/png": "[encoded data removed]",
            "text/plain": [
              "<Figure size 1440x864 with 4 Axes>"
            ]
          },
          "metadata": {
            "needs_background": "light"
          }
        }
      ]
    },
    {
      "cell_type": "markdown",
      "source": [
        "- The percentage of female customers who churn is the same as the percentage of male customers who churn.\n",
        "- The customers belonging to Poor category are abandoning the bank more than other categories. Followed by Average and Good category customers.\n",
        "- Surprisingly, credit card consumers make up the majority of churned customers. Given that the majority of clients use credit cards, this could just be a coincidence.\n",
        "- Inactive members given by Transaction_Status, predictably, have a higher churn rate. "
      ],
      "metadata": {
        "id": "qGnWS9xklzwY"
      }
    },
    {
      "cell_type": "markdown",
      "source": [
        "<h2> Observing correlation </h2>"
      ],
      "metadata": {
        "id": "eYfgkSE50XOm"
      }
    },
    {
      "cell_type": "code",
      "source": [
        "f, ax = plt.subplots(figsize=(30, 30))\n",
        "sns.heatmap(train.corr(), vmin = -1, vmax = +1, annot = True, cmap = 'coolwarm', linewidths=.5, ax=ax)"
      ],
      "metadata": {
        "colab": {
          "base_uri": "https://localhost:8080/",
          "height": 1000
        },
        "id": "EN2e330Y0zEF",
        "outputId": "1ce87266-8521-4f8a-a663-f510f09f364c"
      },
      "execution_count": null,
      "outputs": [
        {
          "output_type": "execute_result",
          "data": {
            "text/plain": [
              "<matplotlib.axes._subplots.AxesSubplot at 0x7fbd42039b90>"
            ]
          },
          "metadata": {},
          "execution_count": 85
        },
        {
          "output_type": "display_data",
          "data": {
            "image/png": "[encoded data removed]",
            "text/plain": [
              "<Figure size 2160x2160 with 2 Axes>"
            ]
          },
          "metadata": {}
        }
      ]
    },
    {
      "cell_type": "markdown",
      "source": [
        "Features Age and Balance tends to hold a certain relation with our target variable. While for others, the data has poor correlation with our target variable."
      ],
      "metadata": {
        "id": "-9l8Rx4x0-KI"
      }
    },
    {
      "cell_type": "markdown",
      "source": [
        "Conclusion of EDA-"
      ],
      "metadata": {
        "id": "1wGgJ78i1Um_"
      }
    },
    {
      "cell_type": "markdown",
      "source": [
        "- There are outliers present in our data set as per the IQR method, although for now, we will keep them as it is.\n",
        "- The feature Age and Balance has some correlation with our target variable, other than that, the features are not highly correlated with our target variable.\n",
        "- Since features Age and Balance seem to be correlated with our target variable, this is yet another reason why keeping the outliers will be a right decision.\n",
        "- Still after looking at the performance of our model, we will make a final call on this."
      ],
      "metadata": {
        "id": "CYOM8s5y4fpL"
      }
    },
    {
      "cell_type": "markdown",
      "source": [
        "# <h2> Data Preprocessing </h2>"
      ],
      "metadata": {
        "id": "BmkoVn1Gf2aw"
      }
    },
    {
      "cell_type": "code",
      "source": [
        "def preprocess_categorical(df):\n",
        "    Gender_map = {'Male': 1, 'Female': 0}\n",
        "    Income_map = {'Less than 5L': 0, '5L - 10L': 1, '10L - 15L': 2, 'More than 15L': 3}\n",
        "    Product_Holdings_map = {'1': 0, '2': 1, '3+': 2}\n",
        "    Credit_Category_map = {'Poor': 0, 'Average': 1, 'Good': 2}\n",
        "    conversions = [\n",
        "        ('Gender', Gender_map, 'uint8'),\n",
        "        ('Income', Income_map, 'uint8'),\n",
        "        ('Credit_Category', Credit_Category_map, 'uint8'),\n",
        "        ('Product_Holdings', Product_Holdings_map, 'uint8')\n",
        "    ]\n",
        "    for col, mapper, new_type in conversions:\n",
        "        df[col] = df[col].map(mapper).astype(new_type)\n",
        "    return df"
      ],
      "metadata": {
        "id": "QmxIZxh-omhC"
      },
      "execution_count": null,
      "outputs": []
    },
    {
      "cell_type": "code",
      "source": [
        "train = preprocess_categorical(train)\n",
        "test = preprocess_categorical(test)"
      ],
      "metadata": {
        "id": "kuzTe5xBnotU"
      },
      "execution_count": null,
      "outputs": []
    },
    {
      "cell_type": "markdown",
      "source": [
        "<h3> Seperating target variable </h3>"
      ],
      "metadata": {
        "id": "RIgJsfXuqoRb"
      }
    },
    {
      "cell_type": "code",
      "source": [
        "y = train['Is_Churn'].values\n",
        "y.shape"
      ],
      "metadata": {
        "colab": {
          "base_uri": "https://localhost:8080/"
        },
        "id": "YvWUgzIbqzoK",
        "outputId": "72d061a7-1139-4a82-8f89-dc6550c8ecb1"
      },
      "execution_count": null,
      "outputs": [
        {
          "output_type": "execute_result",
          "data": {
            "text/plain": [
              "(6650,)"
            ]
          },
          "metadata": {},
          "execution_count": 6
        }
      ]
    },
    {
      "cell_type": "code",
      "source": [
        "train.dtypes"
      ],
      "metadata": {
        "id": "hJGFmvDcwmyt",
        "outputId": "a90736ca-22a3-46e3-87fc-ad9ee0d40898",
        "colab": {
          "base_uri": "https://localhost:8080/"
        }
      },
      "execution_count": null,
      "outputs": [
        {
          "output_type": "execute_result",
          "data": {
            "text/plain": [
              "ID                     object\n",
              "Age                     int64\n",
              "Gender                  uint8\n",
              "Income                  uint8\n",
              "Balance               float64\n",
              "Vintage                 int64\n",
              "Transaction_Status      int64\n",
              "Product_Holdings        uint8\n",
              "Credit_Card             int64\n",
              "Credit_Category         uint8\n",
              "Is_Churn                int64\n",
              "dtype: object"
            ]
          },
          "metadata": {},
          "execution_count": 105
        }
      ]
    },
    {
      "cell_type": "markdown",
      "source": [
        "<h2> Feature Engineering </h2>"
      ],
      "metadata": {
        "id": "InZjgFSD_7gN"
      }
    },
    {
      "cell_type": "code",
      "source": [
        "def new_feature(df):\n",
        "  df['BalanceIncomeRatio'] = df.Balance/(df.Income+0.01)\n",
        "  return df"
      ],
      "metadata": {
        "id": "KPaAf6wewaYl"
      },
      "execution_count": null,
      "outputs": []
    },
    {
      "cell_type": "code",
      "source": [
        "#Successive Aggregated featues\n",
        "def successive_aggregates(df, field1, field2):\n",
        "    t = df.groupby(['ID', field1])[field2].mean()\n",
        "    u = pd.DataFrame(t).reset_index().groupby('ID')[field2].agg(['sum','mean', 'min', 'max'])\n",
        "    u.columns = [field1 + '_' + field2 + '_' + col for col in u.columns.values]\n",
        "    u.reset_index(inplace=True)\n",
        "    return u\n"
      ],
      "metadata": {
        "id": "mHKf723tAruW"
      },
      "execution_count": null,
      "outputs": []
    },
    {
      "cell_type": "code",
      "source": [
        "train = new_feature(train)\n",
        "test = new_feature(test)"
      ],
      "metadata": {
        "id": "y0FR2UDGwrEk"
      },
      "execution_count": null,
      "outputs": []
    },
    {
      "cell_type": "code",
      "source": [
        "Tradditional_fields = successive_aggregates(train, 'Product_Holdings', 'Balance')\n",
        "Tradditional_fields = Tradditional_fields.merge(successive_aggregates(train, 'Credit_Category', 'Transaction_Status'))\n",
        "\n",
        "Teadditional_fields = successive_aggregates(test, 'Product_Holdings', 'Balance')\n",
        "Teadditional_fields = Teadditional_fields.merge(successive_aggregates(test, 'Credit_Category', 'Transaction_Status'))"
      ],
      "metadata": {
        "id": "NEOOE_DPEjZt"
      },
      "execution_count": null,
      "outputs": []
    },
    {
      "cell_type": "code",
      "source": [
        "Tradditional_fields.shape"
      ],
      "metadata": {
        "colab": {
          "base_uri": "https://localhost:8080/"
        },
        "id": "_Uyy2C82GJsd",
        "outputId": "eae2e4ae-49e2-4ec8-e7e0-d7667eee3a14"
      },
      "execution_count": null,
      "outputs": [
        {
          "output_type": "execute_result",
          "data": {
            "text/plain": [
              "(6650, 9)"
            ]
          },
          "metadata": {},
          "execution_count": 89
        }
      ]
    },
    {
      "cell_type": "code",
      "source": [
        "Teadditional_fields.shape"
      ],
      "metadata": {
        "colab": {
          "base_uri": "https://localhost:8080/"
        },
        "id": "sei8xmPjHJ2c",
        "outputId": "79d41f21-e3fd-4afd-9bcc-abf3c36d369d"
      },
      "execution_count": null,
      "outputs": [
        {
          "output_type": "execute_result",
          "data": {
            "text/plain": [
              "(2851, 9)"
            ]
          },
          "metadata": {},
          "execution_count": 90
        }
      ]
    },
    {
      "cell_type": "code",
      "source": [
        "Tradditional_fields.isnull().sum()"
      ],
      "metadata": {
        "colab": {
          "base_uri": "https://localhost:8080/"
        },
        "id": "zldaC_WOHkh6",
        "outputId": "b00a7141-38e8-4890-8124-b4f0cf8c73ff"
      },
      "execution_count": null,
      "outputs": [
        {
          "output_type": "execute_result",
          "data": {
            "text/plain": [
              "ID                                         0\n",
              "Product_Holdings_Balance_sum               0\n",
              "Product_Holdings_Balance_mean              0\n",
              "Product_Holdings_Balance_min               0\n",
              "Product_Holdings_Balance_max               0\n",
              "Credit_Category_Transaction_Status_sum     0\n",
              "Credit_Category_Transaction_Status_mean    0\n",
              "Credit_Category_Transaction_Status_min     0\n",
              "Credit_Category_Transaction_Status_max     0\n",
              "dtype: int64"
            ]
          },
          "metadata": {},
          "execution_count": 72
        }
      ]
    },
    {
      "cell_type": "code",
      "source": [
        "train = pd.merge(train, Tradditional_fields, on = 'ID', how = 'left')\n",
        "test = pd.merge(test, Teadditional_fields, on = 'ID', how = 'left')"
      ],
      "metadata": {
        "id": "yJQNSlOeF6g3"
      },
      "execution_count": null,
      "outputs": []
    },
    {
      "cell_type": "code",
      "source": [
        "train.shape"
      ],
      "metadata": {
        "colab": {
          "base_uri": "https://localhost:8080/"
        },
        "id": "vQGgzPrFG0HE",
        "outputId": "d54241f1-ed74-4c70-d435-a57faf0165a2"
      },
      "execution_count": null,
      "outputs": [
        {
          "output_type": "execute_result",
          "data": {
            "text/plain": [
              "(6650, 20)"
            ]
          },
          "metadata": {},
          "execution_count": 12
        }
      ]
    },
    {
      "cell_type": "code",
      "source": [
        "train.columns"
      ],
      "metadata": {
        "colab": {
          "base_uri": "https://localhost:8080/"
        },
        "id": "t-PUe4c-Ia7T",
        "outputId": "08c3cac9-a156-4fc1-cf83-7fe58d3d65e5"
      },
      "execution_count": null,
      "outputs": [
        {
          "output_type": "execute_result",
          "data": {
            "text/plain": [
              "Index(['ID', 'Age', 'Gender', 'Income', 'Balance', 'Vintage',\n",
              "       'Transaction_Status', 'Product_Holdings', 'Credit_Card',\n",
              "       'Credit_Category', 'Is_Churn', 'BalanceIncomeRatio',\n",
              "       'Product_Holdings_Balance_sum', 'Product_Holdings_Balance_mean',\n",
              "       'Product_Holdings_Balance_min', 'Product_Holdings_Balance_max',\n",
              "       'Credit_Category_Transaction_Status_sum',\n",
              "       'Credit_Category_Transaction_Status_mean',\n",
              "       'Credit_Category_Transaction_Status_min',\n",
              "       'Credit_Category_Transaction_Status_max'],\n",
              "      dtype='object')"
            ]
          },
          "metadata": {},
          "execution_count": 93
        }
      ]
    },
    {
      "cell_type": "code",
      "source": [
        "f, ax = plt.subplots(figsize=(30, 30))\n",
        "sns.heatmap(train.corr(), vmin = -1, vmax = +1, annot = True, cmap = 'coolwarm', linewidths=.5, ax=ax)"
      ],
      "metadata": {
        "colab": {
          "base_uri": "https://localhost:8080/",
          "height": 1000
        },
        "id": "orZ9XFaRIT2M",
        "outputId": "b8c16b4a-d1c2-419f-8845-401fee61c711"
      },
      "execution_count": null,
      "outputs": [
        {
          "output_type": "execute_result",
          "data": {
            "text/plain": [
              "<matplotlib.axes._subplots.AxesSubplot at 0x7faa1a15e2d0>"
            ]
          },
          "metadata": {},
          "execution_count": 12
        },
        {
          "output_type": "display_data",
          "data": {
            "text/plain": [
              "<Figure size 2160x2160 with 2 Axes>"
            ],
            "image/png": "[encoded data removed]"
          },
          "metadata": {
            "needs_background": "light"
          }
        }
      ]
    },
    {
      "cell_type": "markdown",
      "source": [
        "<h2> Normalizing numerical features </h2>"
      ],
      "metadata": {
        "id": "ffk_Y6uxGmd0"
      }
    },
    {
      "cell_type": "code",
      "source": [
        "train_ids = train['ID']\n",
        "test_ids = test['ID']"
      ],
      "metadata": {
        "id": "UsEYYUUcmQ65"
      },
      "execution_count": null,
      "outputs": []
    },
    {
      "cell_type": "code",
      "source": [
        "train = train.drop(['ID','Is_Churn'], axis = 1)\n",
        "test = test.drop(['ID'], axis = 1)"
      ],
      "metadata": {
        "id": "yOK5-LizvBS3"
      },
      "execution_count": null,
      "outputs": []
    },
    {
      "cell_type": "markdown",
      "source": [
        "# Up-Sampling to address class imbalance"
      ],
      "metadata": {
        "id": "e02MX5vhWnuZ"
      }
    },
    {
      "cell_type": "markdown",
      "source": [
        "In order to improve the score, we will try Up-Sampling our dataset's minority class"
      ],
      "metadata": {
        "id": "-12CB9izV8mt"
      }
    },
    {
      "cell_type": "markdown",
      "source": [
        "#<h2> Modelling on over sampled Data </h2>"
      ],
      "metadata": {
        "id": "Ct9B8eVSadFz"
      }
    },
    {
      "cell_type": "markdown",
      "source": [
        "I read the train and test data, performed all the steps before normalizing and came directly here."
      ],
      "metadata": {
        "id": "sZ2KhQoyzIzv"
      }
    },
    {
      "cell_type": "code",
      "source": [
        "X_train.shape"
      ],
      "metadata": {
        "colab": {
          "base_uri": "https://localhost:8080/"
        },
        "id": "O-CD-UmRDLeA",
        "outputId": "838a8902-65af-48c2-8a41-a1b5b905b890"
      },
      "execution_count": null,
      "outputs": [
        {
          "output_type": "execute_result",
          "data": {
            "text/plain": [
              "(5320, 18)"
            ]
          },
          "metadata": {},
          "execution_count": 18
        }
      ]
    },
    {
      "cell_type": "markdown",
      "source": [
        "<h2>1. Baseline Model : Logistic Regression </h2>"
      ],
      "metadata": {
        "id": "251oz0zNan8p"
      }
    },
    {
      "cell_type": "code",
      "source": [
        "%%time\n",
        "pipeline = imbpipeline(steps = [['smote', SMOTE(random_state=11)],\n",
        "                                ['scaler', MinMaxScaler()],\n",
        "                                ['classifier', LogisticRegression()]])\n",
        "\n",
        "stratified_kfold = StratifiedKFold(n_splits=10,\n",
        "                                       shuffle=True,\n",
        "                                       random_state=11)\n",
        "    \n",
        "params = {'classifier__solver' : ['lbfgs','newton-cg','liblinear','sag'], 'classifier__penalty': ['l2'], 'classifier__C': [100, 10, 1.0, 0.1, 0.01, 0.001], 'classifier__max_iter' : [100, 1000,2500, 5000]}\n",
        "random_search = RandomizedSearchCV(estimator=pipeline, param_distributions = params, n_jobs = -1, cv = stratified_kfold, scoring='f1_macro', error_score=0)\n",
        "\n",
        "random_result = random_search.fit(train, y)\n",
        "\n",
        "cv_score = random_result.best_score_\n",
        "#test_score = random_result.score(X_test, y_test)\n",
        "print(f'Cross-validation score: {cv_score}')"
      ],
      "metadata": {
        "colab": {
          "base_uri": "https://localhost:8080/"
        },
        "outputId": "27a29446-3650-4180-989c-0db0d74c16e9",
        "id": "QikO9Oal013p"
      },
      "execution_count": null,
      "outputs": [
        {
          "output_type": "stream",
          "name": "stdout",
          "text": [
            "Cross-validation score: 0.581110416669414\n",
            "CPU times: user 1.48 s, sys: 290 ms, total: 1.77 s\n",
            "Wall time: 17.2 s\n"
          ]
        }
      ]
    },
    {
      "cell_type": "code",
      "source": [
        "print(random_result.best_params_)"
      ],
      "metadata": {
        "colab": {
          "base_uri": "https://localhost:8080/"
        },
        "id": "8GLfrJU-Y54I",
        "outputId": "ae00e040-73a2-4c38-a1d9-ec474fe75ee4"
      },
      "execution_count": null,
      "outputs": [
        {
          "output_type": "stream",
          "name": "stdout",
          "text": [
            "{'classifier__solver': 'lbfgs', 'classifier__penalty': 'l2', 'classifier__max_iter': 2500, 'classifier__C': 100}\n"
          ]
        }
      ]
    },
    {
      "cell_type": "code",
      "source": [
        "model = LogisticRegression(solver = 'lbfgs', penalty = 'l2', max_iter = 2500, C = 100)\n",
        "model.fit(train, y)\n",
        "print(classification_report(y,  model.predict(train)))"
      ],
      "metadata": {
        "colab": {
          "base_uri": "https://localhost:8080/"
        },
        "id": "kQ3FF82VY6B-",
        "outputId": "4b4551cc-d3a0-4c68-f49f-eaa54bda3101"
      },
      "execution_count": null,
      "outputs": [
        {
          "output_type": "stream",
          "name": "stdout",
          "text": [
            "              precision    recall  f1-score   support\n",
            "\n",
            "           0       0.77      1.00      0.87      5113\n",
            "           1       0.00      0.00      0.00      1537\n",
            "\n",
            "    accuracy                           0.77      6650\n",
            "   macro avg       0.38      0.50      0.43      6650\n",
            "weighted avg       0.59      0.77      0.67      6650\n",
            "\n"
          ]
        },
        {
          "output_type": "stream",
          "name": "stderr",
          "text": [
            "/usr/local/lib/python3.7/dist-packages/sklearn/metrics/_classification.py:1318: UndefinedMetricWarning: Precision and F-score are ill-defined and being set to 0.0 in labels with no predicted samples. Use `zero_division` parameter to control this behavior.\n",
            "  _warn_prf(average, modifier, msg_start, len(result))\n",
            "/usr/local/lib/python3.7/dist-packages/sklearn/metrics/_classification.py:1318: UndefinedMetricWarning: Precision and F-score are ill-defined and being set to 0.0 in labels with no predicted samples. Use `zero_division` parameter to control this behavior.\n",
            "  _warn_prf(average, modifier, msg_start, len(result))\n",
            "/usr/local/lib/python3.7/dist-packages/sklearn/metrics/_classification.py:1318: UndefinedMetricWarning: Precision and F-score are ill-defined and being set to 0.0 in labels with no predicted samples. Use `zero_division` parameter to control this behavior.\n",
            "  _warn_prf(average, modifier, msg_start, len(result))\n"
          ]
        }
      ]
    },
    {
      "cell_type": "markdown",
      "source": [
        "<h2> 2. Ridge Classifier </h2>"
      ],
      "metadata": {
        "id": "-kqTGlLdnX1-"
      }
    },
    {
      "cell_type": "code",
      "source": [
        "%%time\n",
        "pipeline = imbpipeline(steps = [['smote', SMOTE(random_state=11)],\n",
        "                                ['scaler', MinMaxScaler()],\n",
        "                                ['classifier', RidgeClassifier()]])\n",
        "\n",
        "stratified_kfold = StratifiedKFold(n_splits=10,\n",
        "                                       shuffle=True,\n",
        "                                       random_state=11)\n",
        "    \n",
        "params = {'classifier__alpha' : [0.1, 0.2, 0.3, 0.4, 0.5, 0.6, 0.7, 0.8, 0.9, 1.0]}\n",
        "random_search = RandomizedSearchCV(estimator=pipeline, param_distributions = params, n_jobs = -1, cv = stratified_kfold, scoring='f1_macro', error_score=0)\n",
        "\n",
        "random_result = random_search.fit(train, y)\n",
        "\n",
        "cv_score = random_result.best_score_\n",
        "#test_score = random_result.score(X_test, y_test)\n",
        "print(f'Cross-validation score: {cv_score}')"
      ],
      "metadata": {
        "colab": {
          "base_uri": "https://localhost:8080/"
        },
        "id": "158ibkYfoXjd",
        "outputId": "6a82798c-8499-4ff4-e424-7b2af88855c6"
      },
      "execution_count": null,
      "outputs": [
        {
          "output_type": "stream",
          "name": "stdout",
          "text": [
            "Cross-validation score: 0.5828383255572496\n",
            "CPU times: user 856 ms, sys: 99.1 ms, total: 955 ms\n",
            "Wall time: 10.2 s\n"
          ]
        }
      ]
    },
    {
      "cell_type": "code",
      "source": [
        "print(random_result.best_params_)"
      ],
      "metadata": {
        "colab": {
          "base_uri": "https://localhost:8080/"
        },
        "id": "kbK3al8nZSqZ",
        "outputId": "3c6d6d3e-e8c8-4222-cf03-53ada16afa8a"
      },
      "execution_count": null,
      "outputs": [
        {
          "output_type": "stream",
          "name": "stdout",
          "text": [
            "{'classifier__alpha': 0.8}\n"
          ]
        }
      ]
    },
    {
      "cell_type": "code",
      "source": [
        "model = RidgeClassifier(alpha = 0.8)\n",
        "model.fit(train, y)\n",
        "print(classification_report(y,  model.predict(train)))"
      ],
      "metadata": {
        "colab": {
          "base_uri": "https://localhost:8080/"
        },
        "id": "CxVeiQaUZV4b",
        "outputId": "6eb48e19-99cd-4114-c45b-1fc8f8408cf2"
      },
      "execution_count": null,
      "outputs": [
        {
          "output_type": "stream",
          "name": "stdout",
          "text": [
            "              precision    recall  f1-score   support\n",
            "\n",
            "           0       0.77      1.00      0.87      5113\n",
            "           1       0.63      0.02      0.03      1537\n",
            "\n",
            "    accuracy                           0.77      6650\n",
            "   macro avg       0.70      0.51      0.45      6650\n",
            "weighted avg       0.74      0.77      0.68      6650\n",
            "\n"
          ]
        },
        {
          "output_type": "stream",
          "name": "stderr",
          "text": [
            "/usr/local/lib/python3.7/dist-packages/sklearn/linear_model/_ridge.py:157: LinAlgWarning: Ill-conditioned matrix (rcond=8.09518e-21): result may not be accurate.\n",
            "  return linalg.solve(A, Xy, sym_pos=True, overwrite_a=True).T\n"
          ]
        }
      ]
    },
    {
      "cell_type": "markdown",
      "source": [
        "<h2> K Nearest Neighbor </h2>"
      ],
      "metadata": {
        "id": "vvrJpPb3nqXL"
      }
    },
    {
      "cell_type": "code",
      "source": [
        "%%time\n",
        "pipeline = imbpipeline(steps = [['smote', SMOTE(random_state=11)],\n",
        "                                ['scaler', RobustScaler()],\n",
        "                                ['classifier', KNeighborsClassifier()]])\n",
        "\n",
        "stratified_kfold = StratifiedKFold(n_splits=10,\n",
        "                                       shuffle=True,\n",
        "                                       random_state=11)\n",
        "    \n",
        "params = {'classifier__n_neighbors' : range(2, 21, 2), 'classifier__weights' : ['uniform', 'distance'],'classifier__metric' : ['euclidean', 'manhattan', 'minkowski']}\n",
        "random_search = RandomizedSearchCV(estimator=pipeline, param_distributions = params, n_jobs = -1, cv = stratified_kfold, scoring='f1_macro', error_score=0)\n",
        "\n",
        "random_result = random_search.fit(train, y)\n",
        "\n",
        "cv_score = random_result.best_score_\n",
        "print(f'Cross-validation score: {cv_score}')"
      ],
      "metadata": {
        "colab": {
          "base_uri": "https://localhost:8080/"
        },
        "id": "qUJjCsQhorHt",
        "outputId": "13c7d7e1-4112-4d8f-923c-6450f853b126"
      },
      "execution_count": null,
      "outputs": [
        {
          "output_type": "stream",
          "name": "stdout",
          "text": [
            "Cross-validation score: 0.545142334653657\n",
            "CPU times: user 1.33 s, sys: 112 ms, total: 1.44 s\n",
            "Wall time: 24.9 s\n"
          ]
        }
      ]
    },
    {
      "cell_type": "code",
      "source": [
        "print(random_result.best_params_)"
      ],
      "metadata": {
        "colab": {
          "base_uri": "https://localhost:8080/"
        },
        "id": "9aLGIVj9ZfMQ",
        "outputId": "8f3ec320-0dd2-404c-c4d6-4f5bc87c54e6"
      },
      "execution_count": null,
      "outputs": [
        {
          "output_type": "stream",
          "name": "stdout",
          "text": [
            "{'classifier__weights': 'uniform', 'classifier__n_neighbors': 20, 'classifier__metric': 'minkowski'}\n"
          ]
        }
      ]
    },
    {
      "cell_type": "code",
      "source": [
        "model = KNeighborsClassifier(weights = 'uniform', n_neighbors = 20, metric = 'minkowski')\n",
        "model.fit(train, y)\n",
        "print(classification_report(y,  model.predict(train)))"
      ],
      "metadata": {
        "colab": {
          "base_uri": "https://localhost:8080/"
        },
        "id": "9PvVJ1OqZhSI",
        "outputId": "2a08f65b-b31c-44e4-d780-5daafe5e37a7"
      },
      "execution_count": null,
      "outputs": [
        {
          "output_type": "stream",
          "name": "stdout",
          "text": [
            "              precision    recall  f1-score   support\n",
            "\n",
            "           0       0.77      1.00      0.87      5113\n",
            "           1       0.33      0.00      0.00      1537\n",
            "\n",
            "    accuracy                           0.77      6650\n",
            "   macro avg       0.55      0.50      0.44      6650\n",
            "weighted avg       0.67      0.77      0.67      6650\n",
            "\n"
          ]
        }
      ]
    },
    {
      "cell_type": "markdown",
      "source": [
        "<h2> Support Vector Machine (SVM) </h2>"
      ],
      "metadata": {
        "id": "TWRK4MFvn8Ix"
      }
    },
    {
      "cell_type": "code",
      "source": [
        "%%time\n",
        "pipeline = imbpipeline(steps = [['smote', SMOTE(random_state=11)],\n",
        "                                ['scaler', RobustScaler()],\n",
        "                                ['classifier', SVC()]])\n",
        "\n",
        "stratified_kfold = StratifiedKFold(n_splits=10,\n",
        "                                       shuffle=True,\n",
        "                                       random_state=11)\n",
        "    \n",
        "params = {'classifier__kernel': ['poly', 'rbf', 'sigmoid'], 'classifier__C': [50, 10, 1.0, 0.1, 0.01], 'classifier__gamma': ['scale']}\n",
        "random_search = RandomizedSearchCV(estimator=pipeline, param_distributions = params, n_jobs = -1, cv = stratified_kfold, scoring='f1_macro', error_score=0)\n",
        "\n",
        "random_result = random_search.fit(train, y)\n",
        "\n",
        "cv_score = random_result.best_score_\n",
        "#test_score = random_result.score(X_test, y_test)\n",
        "print(f'Cross-validation score: {cv_score}')"
      ],
      "metadata": {
        "colab": {
          "base_uri": "https://localhost:8080/"
        },
        "id": "_-YkdD9QpHS1",
        "outputId": "2c6ca682-0bf8-4375-bab2-016581d6cb4f"
      },
      "execution_count": null,
      "outputs": [
        {
          "output_type": "stream",
          "name": "stdout",
          "text": [
            "Cross-validation score: 0.5792409510713331\n",
            "CPU times: user 9.66 s, sys: 655 ms, total: 10.3 s\n",
            "Wall time: 7min 49s\n"
          ]
        }
      ]
    },
    {
      "cell_type": "code",
      "source": [
        "print(random_result.best_params_)"
      ],
      "metadata": {
        "colab": {
          "base_uri": "https://localhost:8080/"
        },
        "id": "0x4swiMUZ0Nx",
        "outputId": "4b559966-7a79-4908-924e-cd11c0cd76b5"
      },
      "execution_count": null,
      "outputs": [
        {
          "output_type": "stream",
          "name": "stdout",
          "text": [
            "{'classifier__kernel': 'rbf', 'classifier__gamma': 'scale', 'classifier__C': 50}\n"
          ]
        }
      ]
    },
    {
      "cell_type": "code",
      "source": [
        "model = SVC(kernel = 'rbf', gamma = 'scale', C = 50)\n",
        "model.fit(train, y)\n",
        "print(classification_report(y,  model.predict(train)))"
      ],
      "metadata": {
        "colab": {
          "base_uri": "https://localhost:8080/"
        },
        "id": "OQ1gtmOVZ8aI",
        "outputId": "735f7953-01ec-4347-ef0a-d2893056a0db"
      },
      "execution_count": null,
      "outputs": [
        {
          "output_type": "stream",
          "name": "stdout",
          "text": [
            "              precision    recall  f1-score   support\n",
            "\n",
            "           0       0.77      1.00      0.87      5113\n",
            "           1       0.00      0.00      0.00      1537\n",
            "\n",
            "    accuracy                           0.77      6650\n",
            "   macro avg       0.38      0.50      0.43      6650\n",
            "weighted avg       0.59      0.77      0.67      6650\n",
            "\n"
          ]
        },
        {
          "output_type": "stream",
          "name": "stderr",
          "text": [
            "/usr/local/lib/python3.7/dist-packages/sklearn/metrics/_classification.py:1318: UndefinedMetricWarning: Precision and F-score are ill-defined and being set to 0.0 in labels with no predicted samples. Use `zero_division` parameter to control this behavior.\n",
            "  _warn_prf(average, modifier, msg_start, len(result))\n",
            "/usr/local/lib/python3.7/dist-packages/sklearn/metrics/_classification.py:1318: UndefinedMetricWarning: Precision and F-score are ill-defined and being set to 0.0 in labels with no predicted samples. Use `zero_division` parameter to control this behavior.\n",
            "  _warn_prf(average, modifier, msg_start, len(result))\n",
            "/usr/local/lib/python3.7/dist-packages/sklearn/metrics/_classification.py:1318: UndefinedMetricWarning: Precision and F-score are ill-defined and being set to 0.0 in labels with no predicted samples. Use `zero_division` parameter to control this behavior.\n",
            "  _warn_prf(average, modifier, msg_start, len(result))\n"
          ]
        }
      ]
    },
    {
      "cell_type": "markdown",
      "source": [
        "<h2> Random Forest</h2>"
      ],
      "metadata": {
        "id": "Xw52NFlqoI-W"
      }
    },
    {
      "cell_type": "code",
      "source": [
        "%%time\n",
        "pipeline = imbpipeline(steps = [['smote', SMOTE(random_state=11, sampling_strategy = 'minority')],\n",
        "                                ['scaler', RobustScaler()],\n",
        "                                ['classifier', RandomForestClassifier()]])\n",
        "\n",
        "stratified_kfold = StratifiedKFold(n_splits=10,\n",
        "                                       shuffle=True,\n",
        "                                       random_state=11)\n",
        "    \n",
        "params = {'classifier__n_estimators': [10, 100, 1000], 'classifier__max_features': ['sqrt', 'log2'], 'classifier__max_depth': [2,5,8,15,20]}\n",
        "random_search = RandomizedSearchCV(estimator=pipeline, param_distributions = params, n_jobs = -1, cv = stratified_kfold, scoring='f1_macro', error_score=0)\n",
        "\n",
        "random_result = random_search.fit(train, y)\n",
        "\n",
        "cv_score = random_result.best_score_\n",
        "#test_score = random_result.score(X_test, y_test)\n",
        "print(f'Cross-validation score: {cv_score}')"
      ],
      "metadata": {
        "colab": {
          "base_uri": "https://localhost:8080/"
        },
        "id": "yB4fXTCJp-xu",
        "outputId": "df7c4749-ed6c-4036-a12b-8c848d24aaa8"
      },
      "execution_count": null,
      "outputs": [
        {
          "output_type": "stream",
          "name": "stdout",
          "text": [
            "Cross-validation score: 0.5588330420952653\n",
            "CPU times: user 2.31 s, sys: 365 ms, total: 2.67 s\n",
            "Wall time: 2min 41s\n"
          ]
        }
      ]
    },
    {
      "cell_type": "code",
      "source": [
        "print(random_result.best_params_)"
      ],
      "metadata": {
        "colab": {
          "base_uri": "https://localhost:8080/"
        },
        "id": "3a4kcjspTNG8",
        "outputId": "f9272598-715d-45fc-8e81-9424404be66b"
      },
      "execution_count": null,
      "outputs": [
        {
          "output_type": "stream",
          "name": "stdout",
          "text": [
            "{'classifier__n_estimators': 10, 'classifier__max_features': 'log2', 'classifier__max_depth': 8}\n"
          ]
        }
      ]
    },
    {
      "cell_type": "code",
      "source": [
        "model = RandomForestClassifier(n_estimators = 10, max_features = 'log2', max_depth = 8)\n",
        "model.fit(train, y)\n",
        "print(classification_report(y,  model.predict(train)))"
      ],
      "metadata": {
        "colab": {
          "base_uri": "https://localhost:8080/"
        },
        "id": "kj9JBYzQQ3Xz",
        "outputId": "f8546f0b-0af7-441c-bb2c-058f2f90f022"
      },
      "execution_count": null,
      "outputs": [
        {
          "output_type": "stream",
          "name": "stdout",
          "text": [
            "              precision    recall  f1-score   support\n",
            "\n",
            "           0       0.78      1.00      0.88      5113\n",
            "           1       0.97      0.06      0.11      1537\n",
            "\n",
            "    accuracy                           0.78      6650\n",
            "   macro avg       0.87      0.53      0.49      6650\n",
            "weighted avg       0.82      0.78      0.70      6650\n",
            "\n"
          ]
        }
      ]
    },
    {
      "cell_type": "markdown",
      "source": [
        "<h2> Stochastic Gradient Boosting </h2>"
      ],
      "metadata": {
        "id": "SnLg8B6ToYRr"
      }
    },
    {
      "cell_type": "code",
      "source": [
        "%%time\n",
        "pipeline = imbpipeline(steps = [['smote', SMOTE(random_state=11)],\n",
        "                                ['scaler', RobustScaler()],\n",
        "                                ['classifier',GradientBoostingClassifier()]])\n",
        "\n",
        "stratified_kfold = StratifiedKFold(n_splits=10,\n",
        "                                       shuffle=True,\n",
        "                                       random_state=11)\n",
        "    \n",
        "params = {'classifier__n_estimators': [10, 100, 500, 1000], 'classifier__learning_rate': [0.001, 0.01, 0.1], 'classifier__max_depth': [2,5,8,15,20], 'classifier__subsample': [0.5, 0.7, 1.0]}\n",
        "random_search = RandomizedSearchCV(estimator=pipeline, param_distributions = params, n_jobs = -1, cv = stratified_kfold, scoring='f1_macro', error_score=0)\n",
        "\n",
        "random_result = random_search.fit(train, y)\n",
        "\n",
        "cv_score = random_result.best_score_\n",
        "#test_score = random_result.score(X_test, y_test)\n",
        "print(f'Cross-validation score: {cv_score}')"
      ],
      "metadata": {
        "colab": {
          "base_uri": "https://localhost:8080/"
        },
        "id": "3Q0v3xkDqr1e",
        "outputId": "ed20bd64-f2c1-48e4-c706-3fd3b96edbbc"
      },
      "execution_count": null,
      "outputs": [
        {
          "output_type": "stream",
          "name": "stdout",
          "text": [
            "Cross-validation score: 0.5717588067294416\n",
            "CPU times: user 28.6 s, sys: 1.33 s, total: 30 s\n",
            "Wall time: 25min 18s\n"
          ]
        }
      ]
    },
    {
      "cell_type": "code",
      "source": [
        "print(random_result.best_params_)"
      ],
      "metadata": {
        "colab": {
          "base_uri": "https://localhost:8080/"
        },
        "id": "Ryo3Uda8ThZn",
        "outputId": "597754b9-204f-4d8a-8da3-3cf877e36c26"
      },
      "execution_count": null,
      "outputs": [
        {
          "output_type": "stream",
          "name": "stdout",
          "text": [
            "{'classifier__subsample': 0.7, 'classifier__n_estimators': 1000, 'classifier__max_depth': 2, 'classifier__learning_rate': 0.01}\n"
          ]
        }
      ]
    },
    {
      "cell_type": "code",
      "source": [
        "model = GradientBoostingClassifier(subsample = 0.7, n_estimators = 1000, max_depth = 2, learning_rate = 0.01)\n",
        "model.fit(train, y)\n",
        "print(classification_report(y,  model.predict(train)))"
      ],
      "metadata": {
        "colab": {
          "base_uri": "https://localhost:8080/"
        },
        "id": "8On-0UizYC4p",
        "outputId": "3da3d866-113a-4f7d-be32-9a091c498bb5"
      },
      "execution_count": null,
      "outputs": [
        {
          "output_type": "stream",
          "name": "stdout",
          "text": [
            "              precision    recall  f1-score   support\n",
            "\n",
            "           0       0.78      0.99      0.87      5113\n",
            "           1       0.69      0.06      0.11      1537\n",
            "\n",
            "    accuracy                           0.78      6650\n",
            "   macro avg       0.74      0.53      0.49      6650\n",
            "weighted avg       0.76      0.78      0.70      6650\n",
            "\n"
          ]
        }
      ]
    },
    {
      "cell_type": "markdown",
      "source": [
        "<h2> Ensemble: Voting Classifiers </h2>"
      ],
      "metadata": {
        "id": "kAO1Bpxe0h7E"
      }
    },
    {
      "cell_type": "code",
      "source": [
        "%%time\n",
        "pipe =imbpipeline(steps = [('smote', SMOTE(random_state=11)),\n",
        "                           ('scaler', RobustScaler()),\n",
        "                           ('vc', VotingClassifier([('lr_classifier', LogisticRegression()),\n",
        "                                                    ('gnb_classifier', GaussianNB()),\n",
        "                                                    ('knn_classifier', KNeighborsClassifier()), \n",
        "                                                    ('svc_classifier', SVC(probability=True)),\n",
        "                                                    ('random_classifier', RandomForestClassifier()), \n",
        "                                                    ('gb_classifier',GradientBoostingClassifier())], voting = 'soft'\n",
        "                                                    )\n",
        "                           )]\n",
        "                  )\n",
        "\n",
        "params = [{'vc__lr_classifier__solver' : ['lbfgs','newton-cg','liblinear','sag'], 'vc__lr_classifier__penalty': ['l2'], 'vc__lr_classifier__C': [100, 10, 1.0, 0.1, 0.01, 0.001], 'vc__lr_classifier__max_iter' : [100, 1000,2500, 5000]},\n",
        "          {'vc__gnb_classifier__var_smoothing' : [1e-9]},\n",
        "          {'vc__knn_classifier__n_neighbors' : range(2, 21, 2), 'vc__knn_classifier__weights' : ['uniform', 'distance'],'vc__knn_classifier__metric' : ['euclidean', 'manhattan', 'minkowski']},\n",
        "          {'vc__svc_classifier__kernel': ['poly', 'rbf', 'sigmoid'], 'vc__svc_classifier__C': [50, 10, 1.0, 0.1, 0.01], 'vc__svc_classifier__gamma': ['scale']},\n",
        "          {'vc__random_classifier__n_estimators': [10, 100, 1000], 'vc__random_classifier__max_features': ['sqrt', 'log2'], 'vc__random_classifier__max_depth': [2,5,8,15,20]},\n",
        "          {'vc__gb_classifier__n_estimators': [10, 100, 500, 1000], 'vc__gb_classifier__learning_rate': [0.001, 0.01, 0.1], 'vc__gb_classifier__max_depth': [2,5,8,15,20], 'vc__gb_classifier__subsample': [0.5, 0.7, 1.0]}\n",
        "         ]\n",
        "\n",
        "stratified_kfold = StratifiedKFold(n_splits=10,\n",
        "                                       shuffle=True,\n",
        "                                       random_state=11)\n",
        "\n",
        "random_search = RandomizedSearchCV(estimator=pipe, param_distributions = params, return_train_score = True, n_jobs = -1, cv = stratified_kfold, scoring='f1_macro', error_score=0)\n",
        "random_search.fit(train, y)\n",
        "y_pred = random_search.predict(test)"
      ],
      "metadata": {
        "colab": {
          "base_uri": "https://localhost:8080/"
        },
        "id": "GRQAR2yE3kdA",
        "outputId": "ed479e38-84ff-4ebc-fd33-14d5f492058a"
      },
      "execution_count": null,
      "outputs": [
        {
          "output_type": "stream",
          "name": "stdout",
          "text": [
            "CPU times: user 1min 19s, sys: 5.19 s, total: 1min 24s\n",
            "Wall time: 1h 15min 56s\n"
          ]
        }
      ]
    },
    {
      "cell_type": "code",
      "source": [
        "print(classification_report(y,  random_search.predict(train)))"
      ],
      "metadata": {
        "colab": {
          "base_uri": "https://localhost:8080/"
        },
        "id": "-r0xn51n6NC5",
        "outputId": "a7ae9fa7-6caa-4f87-adfd-19f393c511bf"
      },
      "execution_count": null,
      "outputs": [
        {
          "output_type": "stream",
          "name": "stdout",
          "text": [
            "              precision    recall  f1-score   support\n",
            "\n",
            "           0       0.87      0.86      0.86      5113\n",
            "           1       0.55      0.59      0.57      1537\n",
            "\n",
            "    accuracy                           0.79      6650\n",
            "   macro avg       0.71      0.72      0.72      6650\n",
            "weighted avg       0.80      0.79      0.80      6650\n",
            "\n"
          ]
        }
      ]
    },
    {
      "cell_type": "markdown",
      "source": [
        "The best macro F1 score is given by majority voting classifiers. Therefore, I'll be using it on final test data."
      ],
      "metadata": {
        "id": "l8uQg2I60PEQ"
      }
    },
    {
      "cell_type": "markdown",
      "source": [
        "<h2> Testing performance of Voting Classifier on test data </h2>"
      ],
      "metadata": {
        "id": "qF0qAVnYj9fa"
      }
    },
    {
      "cell_type": "code",
      "source": [
        "%%time\n",
        "pipe =imbpipeline(steps = [('smote', SMOTE(random_state=11)),\n",
        "                           ('scaler', RobustScaler()),\n",
        "                           ('vc', VotingClassifier([('lr_classifier', LogisticRegression()),\n",
        "                                                    ('gnb_classifier', GaussianNB()),\n",
        "                                                    ('knn_classifier', KNeighborsClassifier()), \n",
        "                                                    ('svc_classifier', SVC(probability=True)),\n",
        "                                                    ('random_classifier', RandomForestClassifier()), \n",
        "                                                    ('gb_classifier',GradientBoostingClassifier())], voting = 'soft'\n",
        "                                                    )\n",
        "                           )]\n",
        "                  )\n",
        "\n",
        "params = [{'vc__lr_classifier__solver' : ['lbfgs','newton-cg','liblinear','sag'], 'vc__lr_classifier__penalty': ['l2'], 'vc__lr_classifier__C': [100, 10, 1.0, 0.1, 0.01, 0.001], 'vc__lr_classifier__max_iter' : [100, 1000,2500, 5000]},\n",
        "          {'vc__gnb_classifier__var_smoothing' : [1e-9]},\n",
        "          {'vc__knn_classifier__n_neighbors' : range(2, 21, 2), 'vc__knn_classifier__weights' : ['uniform', 'distance'],'vc__knn_classifier__metric' : ['euclidean', 'manhattan', 'minkowski']},\n",
        "          {'vc__svc_classifier__kernel': ['poly', 'rbf', 'sigmoid'], 'vc__svc_classifier__C': [50, 10, 1.0, 0.1, 0.01], 'vc__svc_classifier__gamma': ['scale']},\n",
        "          {'vc__random_classifier__n_estimators': [10, 100, 1000], 'vc__random_classifier__max_features': ['sqrt', 'log2'], 'vc__random_classifier__max_depth': [2,5,8,15,20]},\n",
        "          {'vc__gb_classifier__n_estimators': [10, 100, 500, 1000], 'vc__gb_classifier__learning_rate': [0.001, 0.01, 0.1], 'vc__gb_classifier__max_depth': [2,5,8,15,20], 'vc__gb_classifier__subsample': [0.5, 0.7, 1.0]}\n",
        "         ]\n",
        "\n",
        "stratified_kfold = StratifiedKFold(n_splits=10,\n",
        "                                       shuffle=True,\n",
        "                                       random_state=11)\n",
        "\n",
        "random_search = RandomizedSearchCV(estimator=pipe, param_distributions = params, return_train_score = True, n_jobs = -1, cv = stratified_kfold, scoring='f1_macro', error_score=0)\n",
        "random_search.fit(train, y)\n",
        "y_pred = random_search.predict(test)"
      ],
      "metadata": {
        "colab": {
          "base_uri": "https://localhost:8080/"
        },
        "outputId": "ed479e38-84ff-4ebc-fd33-14d5f492058a",
        "id": "51zGSt0sE2Vy"
      },
      "execution_count": null,
      "outputs": [
        {
          "output_type": "stream",
          "name": "stdout",
          "text": [
            "CPU times: user 1min 19s, sys: 5.19 s, total: 1min 24s\n",
            "Wall time: 1h 15min 56s\n"
          ]
        }
      ]
    },
    {
      "cell_type": "code",
      "source": [
        "submission = pd.DataFrame()\n",
        "submission['ID'] = test_ids\n",
        "submission['Is_Churn'] = y_pred"
      ],
      "metadata": {
        "id": "esBc8KXIT3yd"
      },
      "execution_count": null,
      "outputs": []
    },
    {
      "cell_type": "code",
      "source": [
        "print(classification_report(y,  random_search.predict(train)))"
      ],
      "metadata": {
        "colab": {
          "base_uri": "https://localhost:8080/"
        },
        "id": "4sviJpmlEWWD",
        "outputId": "ed8bdbc1-1e89-4385-bf4b-7d0034b36262"
      },
      "execution_count": null,
      "outputs": [
        {
          "output_type": "stream",
          "name": "stdout",
          "text": [
            "              precision    recall  f1-score   support\n",
            "\n",
            "           0       0.87      0.86      0.86      5113\n",
            "           1       0.55      0.59      0.57      1537\n",
            "\n",
            "    accuracy                           0.79      6650\n",
            "   macro avg       0.71      0.72      0.72      6650\n",
            "weighted avg       0.80      0.79      0.80      6650\n",
            "\n"
          ]
        }
      ]
    },
    {
      "cell_type": "code",
      "source": [
        "submission.shape"
      ],
      "metadata": {
        "colab": {
          "base_uri": "https://localhost:8080/"
        },
        "id": "MbLaxpDnW5NF",
        "outputId": "17bac142-e8e3-4ca2-b027-0427a421d4a8"
      },
      "execution_count": null,
      "outputs": [
        {
          "output_type": "execute_result",
          "data": {
            "text/plain": [
              "(2851, 2)"
            ]
          },
          "metadata": {},
          "execution_count": 171
        }
      ]
    },
    {
      "cell_type": "code",
      "source": [
        "submission.to_csv('stacked_churn_submission.csv', index=False)"
      ],
      "metadata": {
        "id": "ulu-Z8MVml7z"
      },
      "execution_count": null,
      "outputs": []
    }
  ]
}